{
 "cells": [
  {
   "cell_type": "markdown",
   "id": "b70b5bd7",
   "metadata": {},
   "source": [
    "# ME-793 Assignment 2: PCA"
   ]
  },
  {
   "cell_type": "code",
   "execution_count": 41,
   "id": "fc1d915a",
   "metadata": {},
   "outputs": [],
   "source": [
    "import numpy as np\n",
    "import pandas as pd"
   ]
  },
  {
   "cell_type": "code",
   "execution_count": 42,
   "id": "d58742c5",
   "metadata": {},
   "outputs": [
    {
     "data": {
      "text/html": [
       "<div>\n",
       "<style scoped>\n",
       "    .dataframe tbody tr th:only-of-type {\n",
       "        vertical-align: middle;\n",
       "    }\n",
       "\n",
       "    .dataframe tbody tr th {\n",
       "        vertical-align: top;\n",
       "    }\n",
       "\n",
       "    .dataframe thead th {\n",
       "        text-align: right;\n",
       "    }\n",
       "</style>\n",
       "<table border=\"1\" class=\"dataframe\">\n",
       "  <thead>\n",
       "    <tr style=\"text-align: right;\">\n",
       "      <th></th>\n",
       "      <th>length</th>\n",
       "      <th>width</th>\n",
       "      <th>thickness</th>\n",
       "    </tr>\n",
       "  </thead>\n",
       "  <tbody>\n",
       "    <tr>\n",
       "      <th>0</th>\n",
       "      <td>7</td>\n",
       "      <td>4</td>\n",
       "      <td>3</td>\n",
       "    </tr>\n",
       "    <tr>\n",
       "      <th>1</th>\n",
       "      <td>4</td>\n",
       "      <td>1</td>\n",
       "      <td>8</td>\n",
       "    </tr>\n",
       "    <tr>\n",
       "      <th>2</th>\n",
       "      <td>6</td>\n",
       "      <td>3</td>\n",
       "      <td>5</td>\n",
       "    </tr>\n",
       "    <tr>\n",
       "      <th>3</th>\n",
       "      <td>8</td>\n",
       "      <td>6</td>\n",
       "      <td>1</td>\n",
       "    </tr>\n",
       "    <tr>\n",
       "      <th>4</th>\n",
       "      <td>8</td>\n",
       "      <td>5</td>\n",
       "      <td>7</td>\n",
       "    </tr>\n",
       "  </tbody>\n",
       "</table>\n",
       "</div>"
      ],
      "text/plain": [
       "   length  width  thickness\n",
       "0       7      4          3\n",
       "1       4      1          8\n",
       "2       6      3          5\n",
       "3       8      6          1\n",
       "4       8      5          7"
      ]
     },
     "execution_count": 42,
     "metadata": {},
     "output_type": "execute_result"
    }
   ],
   "source": [
    "data = pd.read_csv(\"data.csv\", delimiter=\",\")\n",
    "data_arr = data.values # converting data into a numpy array\n",
    "data.head()"
   ]
  },
  {
   "cell_type": "markdown",
   "id": "16285ef6",
   "metadata": {},
   "source": [
    "(a) Write a function for determining PCs of the above dataset X. Standardize your data i.e. use zero mean and normalized data using the ”Standardize” function shown in Tutorial."
   ]
  },
  {
   "cell_type": "code",
   "execution_count": 43,
   "id": "aff231c8",
   "metadata": {},
   "outputs": [],
   "source": [
    "def standardize(X):\n",
    "    mu = sum(X)/len(X)\n",
    "    var = sum((X-mu)**2)/len(X)\n",
    "    z = (X-mu)/var**0.5\n",
    "    return z"
   ]
  },
  {
   "cell_type": "code",
   "execution_count": 51,
   "id": "610e87c0",
   "metadata": {},
   "outputs": [],
   "source": [
    "def pca(data):\n",
    "    data_norm = standardize(data)\n",
    "    A = np.dot(data_norm.transpose(), data_norm) / (data_norm.shape[0]-1)\n",
    "    w,v = np.linalg.eig(A)\n",
    "    proj_data = np.dot(data_norm, v)\n",
    "    return v.transpose(), proj_data, w"
   ]
  },
  {
   "cell_type": "code",
   "execution_count": 52,
   "id": "afe90092",
   "metadata": {},
   "outputs": [],
   "source": [
    "P, proj_data, eigvals = pca(data_arr)"
   ]
  },
  {
   "cell_type": "markdown",
   "id": "a1834121",
   "metadata": {},
   "source": [
    "(b) Show the principal vectors i.e. matrix P."
   ]
  },
  {
   "cell_type": "code",
   "execution_count": 46,
   "id": "5bfe0150",
   "metadata": {},
   "outputs": [
    {
     "name": "stdout",
     "output_type": "stream",
     "text": [
      "(3, 3)\n",
      "Principal vector matrix:  [[-0.64200458 -0.68636164  0.34166917]\n",
      " [-0.66321742  0.72074503  0.20166619]\n",
      " [ 0.38467229  0.09713033  0.91792861]]\n"
     ]
    }
   ],
   "source": [
    "print(P.shape)\n",
    "print(\"Principal vector matrix: \", P)"
   ]
  },
  {
   "cell_type": "code",
   "execution_count": 47,
   "id": "8488429b",
   "metadata": {},
   "outputs": [
    {
     "name": "stdout",
     "output_type": "stream",
     "text": [
      "3\n",
      "Eigenvalues:  [1.9653046  0.33794439 1.03008435]\n"
     ]
    }
   ],
   "source": [
    "print(len(eigvals))\n",
    "print(\"Eigenvalues: \", eigvals)"
   ]
  },
  {
   "cell_type": "markdown",
   "id": "9b12c569",
   "metadata": {},
   "source": [
    "(c) Show the transformed data Y."
   ]
  },
  {
   "cell_type": "code",
   "execution_count": 53,
   "id": "20d44186",
   "metadata": {},
   "outputs": [
    {
     "name": "stdout",
     "output_type": "stream",
     "text": [
      "(10, 3)\n",
      "Projected Data:  [[-0.54266035  0.03532425 -0.66495907]\n",
      " [ 2.80389723  0.34879208  0.06620673]\n",
      " [ 0.61563102  0.1650593  -0.30632536]\n",
      " [-2.15852616  0.38608588 -0.95883922]\n",
      " [-0.93105243  0.36001316  1.04481917]\n",
      " [ 1.1423878  -0.47124516  1.27394577]\n",
      " [ 0.80308178  0.47234173 -1.2618794 ]\n",
      " [-1.24681973 -0.0230066   1.65563789]\n",
      " [-0.28602725  0.1867989   0.02451158]\n",
      " [-0.1999119  -1.46016354 -0.87311811]]\n"
     ]
    }
   ],
   "source": [
    "print(proj_data.shape)\n",
    "print(\"Projected Data: \", proj_data)"
   ]
  },
  {
   "cell_type": "code",
   "execution_count": 54,
   "id": "3e070f1d",
   "metadata": {},
   "outputs": [
    {
     "name": "stdout",
     "output_type": "stream",
     "text": [
      "[[ 1.96530460e+00 -1.03023311e-16 -4.30189222e-17]\n",
      " [-1.03023311e-16  3.37944386e-01  4.64517494e-17]\n",
      " [-4.30189222e-17  4.64517494e-17  1.03008435e+00]]\n"
     ]
    }
   ],
   "source": [
    "print(np.cov(proj_data.T)) # covariance matrix of the projected data is a diagonal matrix!"
   ]
  },
  {
   "cell_type": "markdown",
   "id": "dc546b3d",
   "metadata": {},
   "source": [
    "(d) Determine the variances along the principal directions."
   ]
  },
  {
   "cell_type": "code",
   "execution_count": 50,
   "id": "d53ba1da",
   "metadata": {},
   "outputs": [
    {
     "name": "stdout",
     "output_type": "stream",
     "text": [
      "% Variance explained by PC 1:  0.5895913787011411\n",
      "% Variance explained by PC 2:  0.10138331566589406\n",
      "% Variance explained by PC 3:  0.3090253056329648\n"
     ]
    }
   ],
   "source": [
    "for i, val in enumerate(eigvals):\n",
    "    print(\"% Variance explained by PC {}: \".format(i+1), val/sum(eigvals))"
   ]
  },
  {
   "cell_type": "markdown",
   "id": "27c054ea",
   "metadata": {},
   "source": [
    "(e) Determine the principal axes using Scikit learn and compare with your solution. Does your solution compare well with that from the python library functions ? Why or why not ?"
   ]
  },
  {
   "cell_type": "code",
   "execution_count": 57,
   "id": "7b465d51",
   "metadata": {},
   "outputs": [],
   "source": [
    "from sklearn.decomposition import PCA\n",
    "\n",
    "pca_sk = PCA(n_components = 3)"
   ]
  },
  {
   "cell_type": "code",
   "execution_count": 58,
   "id": "f945021b",
   "metadata": {},
   "outputs": [
    {
     "data": {
      "text/plain": [
       "PCA(n_components=3)"
      ]
     },
     "execution_count": 58,
     "metadata": {},
     "output_type": "execute_result"
    }
   ],
   "source": [
    "data_norm = standardize(data_arr)\n",
    "pca_sk.fit(data_norm)"
   ]
  },
  {
   "cell_type": "code",
   "execution_count": 59,
   "id": "8a1f9008",
   "metadata": {},
   "outputs": [
    {
     "name": "stdout",
     "output_type": "stream",
     "text": [
      "[[-0.64200458 -0.68636164  0.34166917]\n",
      " [ 0.38467229  0.09713033  0.91792861]\n",
      " [ 0.66321742 -0.72074503 -0.20166619]]\n"
     ]
    }
   ],
   "source": [
    "print(pca_sk.components_) # the eigenvectors (P matrix) calculated"
   ]
  },
  {
   "cell_type": "code",
   "execution_count": 60,
   "id": "e203498f",
   "metadata": {},
   "outputs": [
    {
     "name": "stdout",
     "output_type": "stream",
     "text": [
      "Singular values obtained from sklearn:  [4.20567966 3.04479214 1.74398953]\n"
     ]
    }
   ],
   "source": [
    "print(\"Singular values obtained from sklearn: \", pca_sk.singular_values_)"
   ]
  },
  {
   "cell_type": "code",
   "execution_count": 63,
   "id": "420a74ee",
   "metadata": {},
   "outputs": [
    {
     "name": "stdout",
     "output_type": "stream",
     "text": [
      "Eigenvalues calculated from sklearn:  [1.9653045956704716, 1.0300843521098824, 0.3379443855529801]\n"
     ]
    }
   ],
   "source": [
    "cov_matrix = np.matmul(data_norm.transpose(), data_norm) / (data_norm.shape[0]-1)\n",
    "eigvals_ = []\n",
    "for eigenvector in pca_sk.components_:\n",
    "    eigvals_.append(np.dot(eigenvector.T, np.dot(cov_matrix, eigenvector)))\n",
    "print(\"Eigenvalues calculated from sklearn: \", eigvals_)"
   ]
  },
  {
   "cell_type": "code",
   "execution_count": 64,
   "id": "fa5c8b99",
   "metadata": {},
   "outputs": [
    {
     "name": "stdout",
     "output_type": "stream",
     "text": [
      "[0.58959138 0.30902531 0.10138332]\n"
     ]
    }
   ],
   "source": [
    "print(pca_sk.explained_variance_ratio_)"
   ]
  },
  {
   "cell_type": "code",
   "execution_count": 80,
   "id": "68fb77a9",
   "metadata": {},
   "outputs": [
    {
     "name": "stdout",
     "output_type": "stream",
     "text": [
      "(10, 3)\n",
      "[[-0.54266035 -0.66495907 -0.03532425]\n",
      " [ 2.80389723  0.06620673 -0.34879208]\n",
      " [ 0.61563102 -0.30632536 -0.1650593 ]\n",
      " [-2.15852616 -0.95883922 -0.38608588]\n",
      " [-0.93105243  1.04481917 -0.36001316]\n",
      " [ 1.1423878   1.27394577  0.47124516]\n",
      " [ 0.80308178 -1.2618794  -0.47234173]\n",
      " [-1.24681973  1.65563789  0.0230066 ]\n",
      " [-0.28602725  0.02451158 -0.1867989 ]\n",
      " [-0.1999119  -0.87311811  1.46016354]]\n"
     ]
    }
   ],
   "source": [
    "proj_data_sk = np.dot(data_norm, pca_sk.components_.T)\n",
    "print(proj_data_sk.shape)\n",
    "print(proj_data_sk)"
   ]
  },
  {
   "cell_type": "code",
   "execution_count": 81,
   "id": "f4c05493",
   "metadata": {},
   "outputs": [
    {
     "name": "stdout",
     "output_type": "stream",
     "text": [
      "[[ 1.96530460e+00 -7.72144097e-17  2.14378877e-16]\n",
      " [-7.72144097e-17  1.03008435e+00 -1.32620538e-16]\n",
      " [ 2.14378877e-16 -1.32620538e-16  3.37944386e-01]]\n"
     ]
    }
   ],
   "source": [
    "print(np.cov(proj_data_sk.T))"
   ]
  },
  {
   "cell_type": "markdown",
   "id": "17a31fef",
   "metadata": {},
   "source": [
    "The results (explained variance, eigenvalues and P matrix) obtained from scikit learn library are very similar to the ones obtained from the python functions. The order of eigenvectors and hence eigenvalues obtained from the python function is not sorted according to the explained variance but the values are almost same (differing only after 8 decimal places). Also, there is one eigenvector (2nd in python function and 3rd in pca) that has differing signs. The values "
   ]
  },
  {
   "cell_type": "markdown",
   "id": "0ea3f69c",
   "metadata": {},
   "source": [
    "(f) Determine the principal axes using numpy and compare with your solution. Does your solution compare well with that from the python library functions? Why or why not?"
   ]
  },
  {
   "cell_type": "code",
   "execution_count": 71,
   "id": "1820da0d",
   "metadata": {},
   "outputs": [],
   "source": [
    "u, s, vt = np.linalg.svd(data_norm.T) # we use transposed matrix as input to SVD"
   ]
  },
  {
   "cell_type": "code",
   "execution_count": 72,
   "id": "be7758c3",
   "metadata": {},
   "outputs": [
    {
     "name": "stdout",
     "output_type": "stream",
     "text": [
      "(3, 3)\n",
      "[[ 0.64200458 -0.38467229  0.66321742]\n",
      " [ 0.68636164 -0.09713033 -0.72074503]\n",
      " [-0.34166917 -0.91792861 -0.20166619]]\n"
     ]
    }
   ],
   "source": [
    "print(u.shape)\n",
    "print(u) # U matrix in the svd factorisation of the standardised data matrix"
   ]
  },
  {
   "cell_type": "code",
   "execution_count": 73,
   "id": "c93d312e",
   "metadata": {},
   "outputs": [
    {
     "name": "stdout",
     "output_type": "stream",
     "text": [
      "(10, 10)\n",
      "[[ 0.12903036 -0.66669301 -0.14638086  0.51324075  0.22137978 -0.27162977\n",
      "  -0.19095172  0.29646094  0.06800976  0.04753379]\n",
      " [ 0.21839227 -0.02174425  0.10060633  0.31491122 -0.34314959 -0.41840156\n",
      "   0.4144386  -0.54376056 -0.00805033  0.28675787]\n",
      " [-0.02025485 -0.19999666 -0.09464466 -0.22138085 -0.2064308   0.270211\n",
      "  -0.27083978  0.01319194 -0.10711011  0.83725476]\n",
      " [-0.0776831   0.55921545 -0.16402512  0.7220516  -0.01151717  0.2675677\n",
      "  -0.15999746  0.09652741 -0.04547383  0.15579135]\n",
      " [-0.02403472  0.11135896  0.41543718  0.0073781   0.81858193 -0.0443377\n",
      "   0.07460367 -0.19264043 -0.0359435   0.31363807]\n",
      " [-0.15266113 -0.41610233  0.28516453  0.23436655 -0.07330346  0.71121762\n",
      "   0.27108062 -0.23573962  0.03584033 -0.16050123]\n",
      " [ 0.46632461  0.05301781 -0.3497309  -0.0837609   0.17006074  0.22021952\n",
      "   0.65014288  0.36276191 -0.01083444  0.13633136]\n",
      " [-0.32123375  0.05038486  0.55821268  0.06206548 -0.25446758 -0.17993115\n",
      "   0.28740686  0.61083413 -0.0212316   0.15973711]\n",
      " [ 0.05298641  0.07687247  0.04671142 -0.02999116 -0.02404449  0.03866678\n",
      "  -0.04104257  0.00772732  0.98589714  0.11131489]\n",
      " [-0.76280446 -0.07433824 -0.49253147 -0.01724134  0.14418985 -0.12801421\n",
      "   0.32680476 -0.09739631  0.08143476  0.09808827]]\n"
     ]
    }
   ],
   "source": [
    "print(vt.shape)\n",
    "print(vt) # eigenvector matrix of cov of data matrix: transformation matrix"
   ]
  },
  {
   "cell_type": "code",
   "execution_count": 74,
   "id": "a346cd6d",
   "metadata": {},
   "outputs": [
    {
     "name": "stdout",
     "output_type": "stream",
     "text": [
      "(3,)\n",
      "Singular values obtained from numpy:  [4.20567966 3.04479214 1.74398953]\n"
     ]
    }
   ],
   "source": [
    "print(s.shape)\n",
    "print(\"Singular values obtained from numpy: \", s)"
   ]
  },
  {
   "cell_type": "code",
   "execution_count": 85,
   "id": "d0455661",
   "metadata": {},
   "outputs": [
    {
     "name": "stdout",
     "output_type": "stream",
     "text": [
      "14.946948236436725\n"
     ]
    }
   ],
   "source": [
    "proj_data_svd = np.dot(u, s)"
   ]
  },
  {
   "cell_type": "markdown",
   "id": "8962dfeb",
   "metadata": {},
   "source": [
    "(g) How many PCs are sufficient to represent the data in reduced dimensions with 95 % accuracy. Show how did you come up with you answer."
   ]
  },
  {
   "cell_type": "code",
   "execution_count": 70,
   "id": "bd3da4dc",
   "metadata": {},
   "outputs": [
    {
     "name": "stdout",
     "output_type": "stream",
     "text": [
      "[0.58959138 0.30902531 0.10138332]\n"
     ]
    }
   ],
   "source": [
    "print(pca.explained_variance_ratio_)"
   ]
  },
  {
   "cell_type": "markdown",
   "id": "c4c4bc65",
   "metadata": {},
   "source": [
    "As can be seen above, the variance ratios of the 3 PCs obtained from the given data is arranged in a descending order. In order to represent the data with 95% accuracy, we would need all the 3 PCs because the largest 2 can explain 90% of data but the rest 10% can be represented after including the 3rd PC only."
   ]
  }
 ],
 "metadata": {
  "kernelspec": {
   "display_name": "Python 3 (ipykernel)",
   "language": "python",
   "name": "python3"
  },
  "language_info": {
   "codemirror_mode": {
    "name": "ipython",
    "version": 3
   },
   "file_extension": ".py",
   "mimetype": "text/x-python",
   "name": "python",
   "nbconvert_exporter": "python",
   "pygments_lexer": "ipython3",
   "version": "3.8.11"
  }
 },
 "nbformat": 4,
 "nbformat_minor": 5
}
