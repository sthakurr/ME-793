{
 "cells": [
  {
   "cell_type": "markdown",
   "id": "b70b5bd7",
   "metadata": {},
   "source": [
    "# ME-793 Assignment 2: PCA"
   ]
  },
  {
   "cell_type": "code",
   "execution_count": 9,
   "id": "fc1d915a",
   "metadata": {},
   "outputs": [],
   "source": [
    "import numpy as np\n",
    "import pandas as pd"
   ]
  },
  {
   "cell_type": "code",
   "execution_count": 7,
   "id": "d58742c5",
   "metadata": {},
   "outputs": [
    {
     "data": {
      "text/html": [
       "<div>\n",
       "<style scoped>\n",
       "    .dataframe tbody tr th:only-of-type {\n",
       "        vertical-align: middle;\n",
       "    }\n",
       "\n",
       "    .dataframe tbody tr th {\n",
       "        vertical-align: top;\n",
       "    }\n",
       "\n",
       "    .dataframe thead th {\n",
       "        text-align: right;\n",
       "    }\n",
       "</style>\n",
       "<table border=\"1\" class=\"dataframe\">\n",
       "  <thead>\n",
       "    <tr style=\"text-align: right;\">\n",
       "      <th></th>\n",
       "      <th>length</th>\n",
       "      <th>width</th>\n",
       "      <th>thickness</th>\n",
       "    </tr>\n",
       "  </thead>\n",
       "  <tbody>\n",
       "    <tr>\n",
       "      <th>0</th>\n",
       "      <td>7</td>\n",
       "      <td>4</td>\n",
       "      <td>3</td>\n",
       "    </tr>\n",
       "    <tr>\n",
       "      <th>1</th>\n",
       "      <td>4</td>\n",
       "      <td>1</td>\n",
       "      <td>8</td>\n",
       "    </tr>\n",
       "    <tr>\n",
       "      <th>2</th>\n",
       "      <td>6</td>\n",
       "      <td>3</td>\n",
       "      <td>5</td>\n",
       "    </tr>\n",
       "    <tr>\n",
       "      <th>3</th>\n",
       "      <td>8</td>\n",
       "      <td>6</td>\n",
       "      <td>1</td>\n",
       "    </tr>\n",
       "    <tr>\n",
       "      <th>4</th>\n",
       "      <td>8</td>\n",
       "      <td>5</td>\n",
       "      <td>7</td>\n",
       "    </tr>\n",
       "  </tbody>\n",
       "</table>\n",
       "</div>"
      ],
      "text/plain": [
       "   length  width  thickness\n",
       "0       7      4          3\n",
       "1       4      1          8\n",
       "2       6      3          5\n",
       "3       8      6          1\n",
       "4       8      5          7"
      ]
     },
     "execution_count": 7,
     "metadata": {},
     "output_type": "execute_result"
    }
   ],
   "source": [
    "data = pd.read_csv(\"data.csv\", delimiter=\",\")\n",
    "data_arr = data.values # converting data into a numpy array\n",
    "data.head()"
   ]
  },
  {
   "cell_type": "markdown",
   "id": "16285ef6",
   "metadata": {},
   "source": [
    "(a) Write a function for determining PCs of the above dataset X. Standardize your data i.e. use zero mean and normalized data using the ”Standardize” function shown in Tutorial."
   ]
  },
  {
   "cell_type": "code",
   "execution_count": 5,
   "id": "aff231c8",
   "metadata": {},
   "outputs": [],
   "source": [
    "def standardize(X):\n",
    "    mu = sum(X)/len(X)\n",
    "    var = sum((X-mu)**2)/len(X)\n",
    "    z = (X-mu)/var**0.5\n",
    "    return z"
   ]
  },
  {
   "cell_type": "code",
   "execution_count": 51,
   "id": "610e87c0",
   "metadata": {},
   "outputs": [],
   "source": [
    "def pca(data):\n",
    "    data_norm = standardize(data)\n",
    "    A = np.dot(data_norm.transpose(), data_norm) / (data_norm.shape[0]-1)\n",
    "    w,v = np.linalg.eig(A)\n",
    "    proj_data = np.matmul(data_norm, v.transpose())\n",
    "    return v.transpose(), proj_data, w"
   ]
  },
  {
   "cell_type": "code",
   "execution_count": 52,
   "id": "afe90092",
   "metadata": {},
   "outputs": [],
   "source": [
    "P, proj_data, eigvals = pca(data_arr)"
   ]
  },
  {
   "cell_type": "markdown",
   "id": "a1834121",
   "metadata": {},
   "source": [
    "(b) Show the principal vectors i.e. matrix P."
   ]
  },
  {
   "cell_type": "code",
   "execution_count": 53,
   "id": "5bfe0150",
   "metadata": {},
   "outputs": [
    {
     "name": "stdout",
     "output_type": "stream",
     "text": [
      "(3, 3)\n",
      "Principal vector matrix:  [[-0.64200458 -0.68636164  0.34166917]\n",
      " [-0.66321742  0.72074503  0.20166619]\n",
      " [ 0.38467229  0.09713033  0.91792861]]\n"
     ]
    }
   ],
   "source": [
    "print(P.shape)\n",
    "print(\"Principal vector matrix: \", P)"
   ]
  },
  {
   "cell_type": "code",
   "execution_count": 56,
   "id": "8488429b",
   "metadata": {},
   "outputs": [
    {
     "name": "stdout",
     "output_type": "stream",
     "text": [
      "3\n",
      "Eigenvalues:  [1.9653046  0.33794439 1.03008435]\n"
     ]
    }
   ],
   "source": [
    "print(len(eigvals))\n",
    "print(\"Eigenvalues: \", eigvals)"
   ]
  },
  {
   "cell_type": "markdown",
   "id": "9b12c569",
   "metadata": {},
   "source": [
    "(c) Show the transformed data Y."
   ]
  },
  {
   "cell_type": "code",
   "execution_count": 54,
   "id": "20d44186",
   "metadata": {},
   "outputs": [
    {
     "name": "stdout",
     "output_type": "stream",
     "text": [
      "(10, 3)\n",
      "Projected Data:  [[-0.56886095  0.11616779 -0.63308837]\n",
      " [ 2.81215901  0.28136686 -0.02175664]\n",
      " [ 0.60630127  0.1833935  -0.31439935]\n",
      " [-2.18616813  0.52943876 -0.81733326]\n",
      " [-0.87722291  0.26781044  1.11663456]\n",
      " [ 1.18222921 -0.62595722  1.16643533]\n",
      " [ 0.7614517   0.58520365 -1.24020751]\n",
      " [-1.17684005 -0.17047777  1.69770739]\n",
      " [-0.27992753  0.18912391  0.05638228]\n",
      " [-0.27312162 -1.35606992 -1.01037444]]\n"
     ]
    }
   ],
   "source": [
    "print(proj_data.shape)\n",
    "print(\"Projected Data: \", proj_data)"
   ]
  },
  {
   "cell_type": "markdown",
   "id": "dc546b3d",
   "metadata": {},
   "source": [
    "(d) Determine the variances along the principal directions."
   ]
  },
  {
   "cell_type": "code",
   "execution_count": 55,
   "id": "d53ba1da",
   "metadata": {},
   "outputs": [
    {
     "name": "stdout",
     "output_type": "stream",
     "text": [
      "% Variance explained by PC 1:  0.5895913787011411\n",
      "% Variance explained by PC 2:  0.10138331566589406\n",
      "% Variance explained by PC 3:  0.3090253056329648\n"
     ]
    }
   ],
   "source": [
    "for i, val in enumerate(eigvals):\n",
    "    print(\"% Variance explained by PC {}: \".format(i+1), val/sum(eigvals))"
   ]
  },
  {
   "cell_type": "markdown",
   "id": "27c054ea",
   "metadata": {},
   "source": [
    "(e) Determine the principal axes using Scikit learn and compare with your solution. Does your solution compare well with that from the python library functions ? Why or why not ?"
   ]
  },
  {
   "cell_type": "code",
   "execution_count": 57,
   "id": "7b465d51",
   "metadata": {},
   "outputs": [],
   "source": [
    "from sklearn.decomposition import PCA\n",
    "\n",
    "pca = PCA(n_components = 3)"
   ]
  },
  {
   "cell_type": "code",
   "execution_count": 58,
   "id": "f945021b",
   "metadata": {},
   "outputs": [
    {
     "data": {
      "text/plain": [
       "PCA(n_components=3)"
      ]
     },
     "execution_count": 58,
     "metadata": {},
     "output_type": "execute_result"
    }
   ],
   "source": [
    "data_norm = standardize(data_arr)\n",
    "pca.fit(data_norm)"
   ]
  },
  {
   "cell_type": "code",
   "execution_count": 69,
   "id": "8a1f9008",
   "metadata": {},
   "outputs": [
    {
     "name": "stdout",
     "output_type": "stream",
     "text": [
      "[[-0.64200458 -0.68636164  0.34166917]\n",
      " [ 0.38467229  0.09713033  0.91792861]\n",
      " [ 0.66321742 -0.72074503 -0.20166619]]\n"
     ]
    }
   ],
   "source": [
    "print(pca.components_) # the eigenvectors (P matrix) calculated"
   ]
  },
  {
   "cell_type": "code",
   "execution_count": 67,
   "id": "420a74ee",
   "metadata": {},
   "outputs": [
    {
     "name": "stdout",
     "output_type": "stream",
     "text": [
      "Eigenvalues calculated from sklearn:  [1.9653045956704716, 1.0300843521098824, 0.3379443855529801]\n"
     ]
    }
   ],
   "source": [
    "cov_matrix = np.matmul(data_norm.transpose(), data_norm) / (data_norm.shape[0]-1)\n",
    "eigvals_ = []\n",
    "for eigenvector in pca.components_:\n",
    "    eigvals_.append(np.dot(eigenvector.T, np.dot(cov_matrix, eigenvector)))\n",
    "print(\"Eigenvalues calculated from sklearn: \", eigvals_)"
   ]
  },
  {
   "cell_type": "code",
   "execution_count": 59,
   "id": "fa5c8b99",
   "metadata": {},
   "outputs": [
    {
     "name": "stdout",
     "output_type": "stream",
     "text": [
      "[0.58959138 0.30902531 0.10138332]\n"
     ]
    }
   ],
   "source": [
    "print(pca.explained_variance_ratio_)"
   ]
  },
  {
   "cell_type": "markdown",
   "id": "17a31fef",
   "metadata": {},
   "source": [
    "The results (explained variance, eigenvalues and P matrix) obtained from scikit learn library are very similar to the ones obtained from the python functions. The order of eigenvectors and hence eigenvalues obtained from the python function is not sorted according to the explained variance but the values are almost same (differing only after 6 decimal places)."
   ]
  },
  {
   "cell_type": "markdown",
   "id": "0ea3f69c",
   "metadata": {},
   "source": [
    "(f) Determine the principal axes using numpy and compare with your solution. Does your solution compare well with that from the python library functions? Why or why not?"
   ]
  },
  {
   "cell_type": "code",
   "execution_count": null,
   "id": "1820da0d",
   "metadata": {},
   "outputs": [],
   "source": []
  },
  {
   "cell_type": "markdown",
   "id": "8962dfeb",
   "metadata": {},
   "source": [
    "(g) How many PCs are sufficient to represent the data in reduced dimensions with 95 % accuracy. Show how did you come up with you answer."
   ]
  },
  {
   "cell_type": "code",
   "execution_count": 70,
   "id": "bd3da4dc",
   "metadata": {},
   "outputs": [
    {
     "name": "stdout",
     "output_type": "stream",
     "text": [
      "[0.58959138 0.30902531 0.10138332]\n"
     ]
    }
   ],
   "source": [
    "print(pca.explained_variance_ratio_)"
   ]
  },
  {
   "cell_type": "markdown",
   "id": "c4c4bc65",
   "metadata": {},
   "source": [
    "As can be seen above, the variance ratios of the 3 PCs obtained from the given data is arranged in a descending order. In order to represent the data with 95% accuracy, we would need all the 3 PCs because the largest 2 can explain 90% of data but the rest 10% can be represented after including the 3rd PC only."
   ]
  }
 ],
 "metadata": {
  "kernelspec": {
   "display_name": "Python 3 (ipykernel)",
   "language": "python",
   "name": "python3"
  },
  "language_info": {
   "codemirror_mode": {
    "name": "ipython",
    "version": 3
   },
   "file_extension": ".py",
   "mimetype": "text/x-python",
   "name": "python",
   "nbconvert_exporter": "python",
   "pygments_lexer": "ipython3",
   "version": "3.8.11"
  }
 },
 "nbformat": 4,
 "nbformat_minor": 5
}
