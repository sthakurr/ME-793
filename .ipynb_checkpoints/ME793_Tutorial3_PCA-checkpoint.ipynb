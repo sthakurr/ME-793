{
 "cells": [
  {
   "cell_type": "markdown",
   "id": "47b864ba",
   "metadata": {},
   "source": [
    "# What is PCA and SVD and how are they related"
   ]
  },
  {
   "cell_type": "markdown",
   "id": "7f3f4901",
   "metadata": {},
   "source": [
    "# Write your own function for PCA. Note that in the following the data is not normalized and is not adjusted for zero mean. We need to add that. Otherwise the values will not match with the library function."
   ]
  },
  {
   "cell_type": "code",
   "execution_count": 166,
   "id": "05b578e7",
   "metadata": {},
   "outputs": [],
   "source": [
    "def pca(X):\n",
    "  # Add a functionality of adjusting X for zero mean for each column and normalize each column using variance.\n",
    "  n, m = X.shape\n",
    "  # Compute covariance matrix\n",
    "  C = np.dot(X.T, X) / (n-1)\n",
    "  # Eigen decomposition\n",
    "  eigen_vals, eigen_vecs = np.linalg.eig(C)\n",
    "  # Project X onto PC space\n",
    "  X_pca = np.dot(X, eigen_vecs)\n",
    "  return eigen_vecs,eigen_vals,X_pca"
   ]
  },
  {
   "cell_type": "code",
   "execution_count": 167,
   "id": "68651c50",
   "metadata": {},
   "outputs": [],
   "source": [
    "import numpy as np"
   ]
  },
  {
   "cell_type": "code",
   "execution_count": 189,
   "id": "0779061b",
   "metadata": {},
   "outputs": [],
   "source": [
    "A=np.array([[1,2,3],\n",
    "   [4,3,7],\n",
    "   [7,6,6]])"
   ]
  },
  {
   "cell_type": "code",
   "execution_count": 190,
   "id": "b648626a",
   "metadata": {
    "scrolled": true
   },
   "outputs": [
    {
     "data": {
      "text/plain": [
       "(3, 3)"
      ]
     },
     "execution_count": 190,
     "metadata": {},
     "output_type": "execute_result"
    }
   ],
   "source": [
    "A.shape"
   ]
  },
  {
   "cell_type": "code",
   "execution_count": 191,
   "id": "1d9b1e7d",
   "metadata": {},
   "outputs": [
    {
     "name": "stdout",
     "output_type": "stream",
     "text": [
      "mean for column 1: 4.0\n",
      "mean for column 2: 3.6666666666666665\n",
      "mean for column 3: 5.333333333333333\n"
     ]
    }
   ],
   "source": [
    "w1=A[:,0]\n",
    "m1=np.mean(w1)\n",
    "w2=A[:,1]\n",
    "m2=np.mean(w2)\n",
    "w3=A[:,2]\n",
    "m3=np.mean(w3)\n",
    "A[:,0]=w1\n",
    "A[:,1]=w2\n",
    "A[:,2]=w3\n",
    "print(\"mean for column 1:\",m1)\n",
    "print(\"mean for column 2:\",m2)\n",
    "print(\"mean for column 3:\",m3)"
   ]
  },
  {
   "cell_type": "markdown",
   "id": "b9289d8c",
   "metadata": {},
   "source": [
    "# Adjust for mean and recreate A"
   ]
  },
  {
   "cell_type": "code",
   "execution_count": 192,
   "id": "c76b0506",
   "metadata": {},
   "outputs": [
    {
     "name": "stdout",
     "output_type": "stream",
     "text": [
      "[-3.  0.  3.]\n",
      "[-1.66666667 -0.66666667  2.33333333]\n",
      "[-2.33333333  1.66666667  0.66666667]\n"
     ]
    }
   ],
   "source": [
    "w1=w1-m1\n",
    "w2=w2-m2\n",
    "w3=w3-m3\n",
    "print(w1)\n",
    "print(w2)\n",
    "print(w3)"
   ]
  },
  {
   "cell_type": "code",
   "execution_count": 172,
   "id": "5687ebbf",
   "metadata": {},
   "outputs": [
    {
     "name": "stdout",
     "output_type": "stream",
     "text": [
      "[[-7.         -4.         -1.        ]\n",
      " [-5.33333333 -4.33333333 -1.33333333]\n",
      " [-7.66666667 -3.66666667 -4.66666667]]\n"
     ]
    }
   ],
   "source": [
    "A=np.array([w1, w2, w3])\n",
    "print(A)"
   ]
  },
  {
   "cell_type": "code",
   "execution_count": 173,
   "id": "5c27292a",
   "metadata": {},
   "outputs": [
    {
     "data": {
      "text/plain": [
       "(array([[ 0.82225552,  0.56435218, -0.07350154],\n",
       "        [ 0.48009863, -0.75718483, -0.44291808],\n",
       "        [ 0.30561603, -0.32890385,  0.89354412]]),\n",
       " array([100.51060475,   0.42774277,   3.56165248]),\n",
       " array([[-7.98179922, -0.59282207,  1.39263896],\n",
       "        [-6.87327824,  0.70979446,  1.11992772],\n",
       "        [-9.49052881, -0.01547101, -1.98232783]]))"
      ]
     },
     "execution_count": 173,
     "metadata": {},
     "output_type": "execute_result"
    }
   ],
   "source": [
    "pca(A)"
   ]
  },
  {
   "cell_type": "markdown",
   "id": "b9923594",
   "metadata": {},
   "source": [
    "# Now let us use sklearn libeary PCA function for PCA"
   ]
  },
  {
   "cell_type": "code",
   "execution_count": 174,
   "id": "9169a0bc",
   "metadata": {},
   "outputs": [],
   "source": [
    "from sklearn.decomposition import PCA"
   ]
  },
  {
   "cell_type": "code",
   "execution_count": 193,
   "id": "b33f0e92",
   "metadata": {},
   "outputs": [],
   "source": [
    "pca = PCA(n_components=3)"
   ]
  },
  {
   "cell_type": "code",
   "execution_count": 194,
   "id": "b09e41bc",
   "metadata": {},
   "outputs": [],
   "source": [
    "A=np.array([[1,2,3],\n",
    "   [4,3,7],\n",
    "   [7,6,6]])"
   ]
  },
  {
   "cell_type": "code",
   "execution_count": 195,
   "id": "64489741",
   "metadata": {},
   "outputs": [
    {
     "data": {
      "text/plain": [
       "PCA(n_components=3)"
      ]
     },
     "execution_count": 195,
     "metadata": {},
     "output_type": "execute_result"
    }
   ],
   "source": [
    "pca.fit(A)"
   ]
  },
  {
   "cell_type": "markdown",
   "id": "464784ba",
   "metadata": {},
   "source": [
    "# Let us determine the 'importance' of each PCA component i.e. $\\lambda_1 / (\\lambda_1 + \\lambda_2 + \\lambda_3)$. This represents the amount of information can be represented by each PCA or the 'weight' of a PCA."
   ]
  },
  {
   "cell_type": "code",
   "execution_count": 196,
   "id": "cb3b64b0",
   "metadata": {},
   "outputs": [
    {
     "name": "stdout",
     "output_type": "stream",
     "text": [
      "[8.67682552e-01 1.32317448e-01 4.64293612e-33]\n"
     ]
    }
   ],
   "source": [
    "print(pca.explained_variance_ratio_)"
   ]
  },
  {
   "cell_type": "code",
   "execution_count": 197,
   "id": "e1e1b755",
   "metadata": {
    "scrolled": false
   },
   "outputs": [
    {
     "name": "stdout",
     "output_type": "stream",
     "text": [
      "[5.53697723e+00 2.16222489e+00 4.05031369e-16]\n"
     ]
    }
   ],
   "source": [
    "print(pca.singular_values_) # this represents the singular values sigmas"
   ]
  },
  {
   "cell_type": "code",
   "execution_count": 198,
   "id": "0d1f2c95",
   "metadata": {},
   "outputs": [
    {
     "name": "stdout",
     "output_type": "stream",
     "text": [
      "[[-0.7639027  -0.49776505 -0.4107099 ]\n",
      " [-0.15306667 -0.47851243  0.8646366 ]\n",
      " [-0.62691567  0.72336423  0.28934569]]\n"
     ]
    }
   ],
   "source": [
    "print(pca.components_) # this represents the transformed data"
   ]
  },
  {
   "cell_type": "code",
   "execution_count": 186,
   "id": "643de37e",
   "metadata": {},
   "outputs": [
    {
     "data": {
      "text/plain": [
       "PCA(n_components=3)"
      ]
     },
     "execution_count": 186,
     "metadata": {},
     "output_type": "execute_result"
    }
   ],
   "source": [
    "pca = PCA(n_components=3, svd_solver='auto')\n",
    "pca.fit(A)\n",
    "PCA(n_components=3, svd_solver='auto')"
   ]
  },
  {
   "cell_type": "code",
   "execution_count": 187,
   "id": "58a15706",
   "metadata": {
    "scrolled": true
   },
   "outputs": [
    {
     "name": "stdout",
     "output_type": "stream",
     "text": [
      "[8.67682552e-01 1.32317448e-01 4.64293612e-33]\n"
     ]
    }
   ],
   "source": [
    "print(pca.explained_variance_ratio_)"
   ]
  },
  {
   "cell_type": "code",
   "execution_count": 188,
   "id": "8757375a",
   "metadata": {},
   "outputs": [
    {
     "name": "stdout",
     "output_type": "stream",
     "text": [
      "[5.53697723e+00 2.16222489e+00 4.05031369e-16]\n"
     ]
    }
   ],
   "source": [
    "print(pca.singular_values_)"
   ]
  },
  {
   "cell_type": "code",
   "execution_count": null,
   "id": "245d266e",
   "metadata": {},
   "outputs": [],
   "source": []
  }
 ],
 "metadata": {
  "kernelspec": {
   "display_name": "Python 3 (ipykernel)",
   "language": "python",
   "name": "python3"
  },
  "language_info": {
   "codemirror_mode": {
    "name": "ipython",
    "version": 3
   },
   "file_extension": ".py",
   "mimetype": "text/x-python",
   "name": "python",
   "nbconvert_exporter": "python",
   "pygments_lexer": "ipython3",
   "version": "3.8.11"
  }
 },
 "nbformat": 4,
 "nbformat_minor": 5
}
