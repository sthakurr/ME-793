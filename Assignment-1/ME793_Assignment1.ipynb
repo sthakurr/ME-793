{
  "nbformat": 4,
  "nbformat_minor": 0,
  "metadata": {
    "colab": {
      "name": "ME793-Assignment1.ipynb",
      "provenance": []
    },
    "kernelspec": {
      "name": "python3",
      "display_name": "Python 3"
    },
    "language_info": {
      "name": "python"
    }
  },
  "cells": [
    {
      "cell_type": "markdown",
      "source": [
        "# ME-793 Assignment 1\n",
        "\n",
        "Name: Saumya\n",
        "\n",
        "Roll number: 18B030025"
      ],
      "metadata": {
        "id": "IXjASZ44-iHB"
      }
    },
    {
      "cell_type": "markdown",
      "source": [
        "## Computation of matrix inverse for different n values"
      ],
      "metadata": {
        "id": "H-rsPy8kAvqj"
      }
    },
    {
      "cell_type": "code",
      "execution_count": 47,
      "metadata": {
        "id": "hIeT_eaLXKf-"
      },
      "outputs": [],
      "source": [
        "import time\n",
        "import numpy as np"
      ]
    },
    {
      "cell_type": "code",
      "source": [
        "## Matrices of sizes 5, 6, 7, 8, 9 and 10 for inverse calculation in both python and matlab (generated using np.random.randint(10,(n,n)))\n",
        "\n",
        "mat_5 = np.array([[9,1,6,4,9],[6,8,4,0,8],[6,9,4,3,6],[2,7,1,0,8],[8,6,0,9,8]])\n",
        "mat_6 = np.array([[8,1,8,5,0,6],[9,2,7,7,1,5],[0,9,4,1,0,0],[2,6,6,6,1,1],[8,5,5,5,6,3],[5,0,4,2,5,4]])\n",
        "mat_7 = np.array([[2,6,3,5,8,8,4],[8,2,6,6,8,7,2],[4,5,7,3,9,9,4],[7,5,9,9,0,5,5],[2,1,6,9,9,5,0],[8,3,0,4,4,8,9],[2,6,7,7,4,8,7]])\n",
        "mat_8 = np.array([[7,4,8,1,7,8,8,3],[9,9,4,8,9,1,4,1],[9,2,6,2,8,2,0,3],[5,8,5,1,0,5,4,1],[2,2,7,2,8,4,4,3],[0,3,8,1,0,7,3,3],[1,5,4,1,2,7,6,6],[5,4,2,9,3,8,2,0]])\n",
        "mat_9 = np.array([[9,0,5,6,1,5,1,6,2],[3,9,2,8,4,8,9,6,3],[8,9,4,7,5,2,0,8,3],[0,8,6,1,2,6,7,4,2],[5,5,4,1,2,4,8,2,3],[7,3,1,8,9,7,5,8,3],[9,9,4,6,6,0,1,0,0],[2,1,3,5,5,9,9,6,7],[9,2,4,5,8,6,7,9,1]])\n",
        "mat_10 = np.array([[4,4,7,7,0,7,1,7,8,9],[0,4,2,7,7,8,4,1,6,6],[1,9,1,2,6,7,1,1,5,1],[2,4,4,6,8,5,7,7,8,9],[6,5,3,5,3,5,5,1,4,9],[6,2,9,8,1,5,7,9,3,2],[2,2,4,5,2,6,8,3,2,3],[1,4,3,1,3,5,6,9,1,8],[9,1,4,2,5,1,6,9,6,0],[6,5,4,0,9,2,9,3,3,2]])"
      ],
      "metadata": {
        "id": "5qFrnwpBqyqi"
      },
      "execution_count": 48,
      "outputs": []
    },
    {
      "cell_type": "code",
      "source": [
        "mat_list = [mat_5, mat_6, mat_7, mat_8, mat_9, mat_10]\n",
        "inv_list = [0]*6\n",
        "for i, mat in enumerate(mat_list):\n",
        "  print(\"Matrix of size {} to be inverted: \".format(len(mat)))\n",
        "  print(mat)\n",
        "  tic = time.time()\n",
        "  inv = np.linalg.inv(mat)  ## calculating the inverse\n",
        "  toc = time.time()\n",
        "  inv_list[i] = inv\n",
        "  print(\"Inverse of above matrix: \")\n",
        "  print(inv)\n",
        "  print(\"Time taken: \", (toc-tic))"
      ],
      "metadata": {
        "colab": {
          "base_uri": "https://localhost:8080/",
          "height": 0
        },
        "id": "CDXDop2in-ik",
        "outputId": "d545a60f-a956-482b-ee3d-e02893c62f72"
      },
      "execution_count": 49,
      "outputs": [
        {
          "output_type": "stream",
          "name": "stdout",
          "text": [
            "Matrix of size 5 to be inverted: \n",
            "[[9 1 6 4 9]\n",
            " [6 8 4 0 8]\n",
            " [6 9 4 3 6]\n",
            " [2 7 1 0 8]\n",
            " [8 6 0 9 8]]\n",
            "Inverse of above matrix: \n",
            "[[-1.05512344e-01  5.44978018e-01 -2.99628001e-01 -3.48326006e-01\n",
            "   1.46770375e-01]\n",
            " [-8.31924248e-02  1.62326682e-02  1.09908691e-01 -5.41088941e-03\n",
            "   3.38180588e-04]\n",
            " [ 1.68413933e-01 -3.98714914e-01  3.62867771e-01  1.32904971e-01\n",
            "  -1.95806561e-01]\n",
            " [ 7.98106189e-02 -4.05816706e-01  2.52282719e-01  1.35272235e-01\n",
            "  -8.45451471e-03]\n",
            " [ 7.81197159e-02 -1.00608725e-01 -6.66215759e-02  2.00202908e-01\n",
            "  -1.25126818e-02]]\n",
            "Time taken:  0.0003783702850341797\n",
            "Matrix of size 6 to be inverted: \n",
            "[[8 1 8 5 0 6]\n",
            " [9 2 7 7 1 5]\n",
            " [0 9 4 1 0 0]\n",
            " [2 6 6 6 1 1]\n",
            " [8 5 5 5 6 3]\n",
            " [5 0 4 2 5 4]]\n",
            "Inverse of above matrix: \n",
            "[[ 0.55298013 -0.55629139 -0.2025888  -0.05237809  0.53943408 -0.525587  ]\n",
            " [-0.48344371  0.57615894  0.30885009 -0.16977724 -0.28597231  0.26189043]\n",
            " [ 1.2615894  -1.49668874 -0.47471403  0.37206502  0.75436484 -0.68031306]\n",
            " [-0.69536424  0.8013245   0.1192053   0.0397351  -0.44370861  0.36423841]\n",
            " [-0.00993377 -0.14569536 -0.06712824  0.08368453  0.08067429  0.11559302]\n",
            " [-1.59271523  1.97350993  0.75225768 -0.43106562 -1.307646    1.26068633]]\n",
            "Time taken:  5.030632019042969e-05\n",
            "Matrix of size 7 to be inverted: \n",
            "[[2 6 3 5 8 8 4]\n",
            " [8 2 6 6 8 7 2]\n",
            " [4 5 7 3 9 9 4]\n",
            " [7 5 9 9 0 5 5]\n",
            " [2 1 6 9 9 5 0]\n",
            " [8 3 0 4 4 8 9]\n",
            " [2 6 7 7 4 8 7]]\n",
            "Inverse of above matrix: \n",
            "[[ 0.03166696 -0.10949737  0.12441464  0.16327556  0.03298359  0.08384347\n",
            "  -0.28232867]\n",
            " [ 0.26678702 -0.50200209  0.29891548  0.35584271  0.11328438  0.08055868\n",
            "  -0.53757822]\n",
            " [-0.17053737 -0.23072225  0.28112063  0.1194196   0.1159855   0.02940019\n",
            "  -0.12036974]\n",
            " [ 0.07146444  0.13823246 -0.24173035 -0.04001466  0.01228401 -0.03667558\n",
            "   0.13353603]\n",
            " [-0.02318353 -0.93012365  0.68259742  0.40082527  0.49364082  0.32395857\n",
            "  -0.81388025]\n",
            " [ 0.05171501  1.84647021 -1.24045444 -0.92924138 -0.88569761 -0.60203874\n",
            "   1.5895104 ]\n",
            " [-0.1845045  -1.02469019  0.69645596  0.401884    0.49535108  0.4171949\n",
            "  -0.68037137]]\n",
            "Time taken:  0.001821279525756836\n",
            "Matrix of size 8 to be inverted: \n",
            "[[7 4 8 1 7 8 8 3]\n",
            " [9 9 4 8 9 1 4 1]\n",
            " [9 2 6 2 8 2 0 3]\n",
            " [5 8 5 1 0 5 4 1]\n",
            " [2 2 7 2 8 4 4 3]\n",
            " [0 3 8 1 0 7 3 3]\n",
            " [1 5 4 1 2 7 6 6]\n",
            " [5 4 2 9 3 8 2 0]]\n",
            "Inverse of above matrix: \n",
            "[[ 0.12504876  0.05673396  0.07633126 -0.09313086 -0.23823423  0.06647208\n",
            "  -0.00874279 -0.02441255]\n",
            " [-0.18636484 -0.08718801 -0.00449469  0.29153384  0.2466273  -0.18805511\n",
            "   0.03208603  0.02933766]\n",
            " [ 0.05320098  0.10507709 -0.00605046 -0.11179559 -0.10458167  0.25358566\n",
            "  -0.09695751 -0.07970956]\n",
            " [ 0.06741586  0.19416049 -0.04264799 -0.26893486 -0.23185647  0.2420676\n",
            "  -0.0050271  -0.00442183]\n",
            " [-0.12191705 -0.14547662  0.01319825  0.19755336  0.3560175  -0.26824216\n",
            "   0.00179227  0.06846611]\n",
            " [-0.0911783  -0.22887384  0.03178227  0.23156057  0.24485857 -0.22386467\n",
            "   0.01875328  0.1491598 ]\n",
            " [ 0.25112423  0.18745208 -0.13079882 -0.25081039 -0.26319376  0.16486207\n",
            "  -0.00043714 -0.09737447]\n",
            " [-0.01635125  0.08884914  0.09148542 -0.19326492 -0.19860026  0.12195964\n",
            "   0.18482252 -0.06596993]]\n",
            "Time taken:  0.00015163421630859375\n",
            "Matrix of size 9 to be inverted: \n",
            "[[9 0 5 6 1 5 1 6 2]\n",
            " [3 9 2 8 4 8 9 6 3]\n",
            " [8 9 4 7 5 2 0 8 3]\n",
            " [0 8 6 1 2 6 7 4 2]\n",
            " [5 5 4 1 2 4 8 2 3]\n",
            " [7 3 1 8 9 7 5 8 3]\n",
            " [9 9 4 6 6 0 1 0 0]\n",
            " [2 1 3 5 5 9 9 6 7]\n",
            " [9 2 4 5 8 6 7 9 1]]\n",
            "Inverse of above matrix: \n",
            "[[ 6.54528892e-02 -5.88979100e-02 -1.43230424e-02 -2.14346192e-02\n",
            "   2.19662548e-01  1.99192939e-01 -5.53015997e-02 -1.44782204e-01\n",
            "  -1.11464716e-01]\n",
            " [-1.33717291e-02 -1.14728097e-02  3.39268109e-02  6.68193079e-02\n",
            "   1.11920909e-01  1.58681491e-01 -4.38611251e-02 -1.22660720e-01\n",
            "  -1.27439324e-01]\n",
            " [ 1.93397321e-02 -1.20166380e-02 -4.91021015e-03  5.33543835e-02\n",
            "  -2.32069268e-01 -3.16850356e-01  1.42651481e-01  1.96289363e-01\n",
            "   1.78125643e-01]\n",
            " [ 2.19045091e-03  1.90096559e-01 -1.58380588e-03 -1.37838379e-01\n",
            "  -2.69854984e-01 -3.57014355e-01  1.41101040e-01  2.01248488e-01\n",
            "   1.77626198e-01]\n",
            " [-8.05707180e-02 -9.95485844e-02 -2.45321028e-02  5.67174480e-02\n",
            "  -6.64807154e-02  8.06175731e-02  7.22975463e-02  5.01705011e-02\n",
            "   2.63445204e-02]\n",
            " [ 1.48474593e-01 -1.29252565e-01 -1.45058495e-01  2.25256740e-01\n",
            "   1.84111461e-01  5.42142727e-01 -1.05628113e-01 -2.52076711e-01\n",
            "  -3.38755071e-01]\n",
            " [-7.58077667e-02  1.38115184e-01 -9.76234056e-05 -1.35154147e-01\n",
            "  -3.79598521e-02 -2.95087751e-01  4.14670862e-02  1.13314926e-01\n",
            "   2.13809469e-01]\n",
            " [-3.73025417e-02  3.78446194e-02  1.16577175e-01 -2.94691902e-02\n",
            "  -3.72591879e-02 -1.01414654e-01 -1.00278186e-01 -5.10782546e-03\n",
            "   1.22054384e-01]\n",
            " [-3.05482996e-02 -8.48932311e-02  1.06710209e-01 -5.89309660e-02\n",
            "   1.04975849e-01  2.29229642e-02 -2.30520990e-02  1.20823587e-01\n",
            "  -1.15953951e-01]]\n",
            "Time taken:  0.0025038719177246094\n",
            "Matrix of size 10 to be inverted: \n",
            "[[4 4 7 7 0 7 1 7 8 9]\n",
            " [0 4 2 7 7 8 4 1 6 6]\n",
            " [1 9 1 2 6 7 1 1 5 1]\n",
            " [2 4 4 6 8 5 7 7 8 9]\n",
            " [6 5 3 5 3 5 5 1 4 9]\n",
            " [6 2 9 8 1 5 7 9 3 2]\n",
            " [2 2 4 5 2 6 8 3 2 3]\n",
            " [1 4 3 1 3 5 6 9 1 8]\n",
            " [9 1 4 2 5 1 6 9 6 0]\n",
            " [6 5 4 0 9 2 9 3 3 2]]\n",
            "Inverse of above matrix: \n",
            "[[-1.11931718e-02  8.92011864e-02 -3.30721307e-02 -1.43722778e-01\n",
            "   9.79378416e-02  2.77294879e-03 -7.00735311e-02  2.68725069e-02\n",
            "   9.70235892e-02  1.81314061e-04]\n",
            " [-9.62392215e-02 -2.37057930e-01  1.79723368e-01  1.76529096e-01\n",
            "   9.51692129e-02  8.01649450e-02 -5.03624305e-04 -4.32002452e-02\n",
            "  -7.84942510e-02 -7.48623112e-02]\n",
            " [ 1.82039613e-01  4.26333103e-02 -8.53669319e-02 -8.19796928e-02\n",
            "  -1.35361743e-01  3.78984172e-02 -5.10636643e-02 -2.90638772e-02\n",
            "  -1.26047435e-01  2.28594323e-01]\n",
            " [-1.79369863e-01 -1.21904641e-02  5.20412632e-02  1.35699346e-01\n",
            "   1.19657969e-01  1.74140563e-01 -9.42057920e-02 -5.25398332e-02\n",
            "  -2.26009336e-02 -1.54065313e-01]\n",
            " [-2.43904189e-02  2.23311790e-01 -7.40530257e-02 -9.21644565e-02\n",
            "  -4.20279960e-02  5.73583750e-02 -1.98390349e-01  5.44840316e-02\n",
            "  -1.30805688e-03  1.03005086e-01]\n",
            " [ 1.06181245e-01  2.29304851e-01 -5.60362655e-02 -2.74303915e-01\n",
            "  -7.81607354e-02 -9.88421691e-02  6.56793702e-02  1.00491025e-01\n",
            "   8.10732523e-02  4.67379176e-02]\n",
            " [-4.13585875e-02 -1.72295463e-01  3.50246469e-02  1.31837089e-01\n",
            "   1.48918202e-02 -6.05282709e-02  2.21822947e-01 -5.34794422e-02\n",
            "  -5.68085010e-03 -3.30807619e-02]\n",
            " [-6.00568480e-02 -1.21379649e-02  3.25680900e-02  3.38602096e-02\n",
            "  -1.11509200e-02  4.87025345e-02 -5.55102035e-02  7.72462681e-02\n",
            "   5.17526631e-02 -8.62284389e-02]\n",
            " [ 1.05332175e-01 -1.52459066e-01  4.63919520e-02  1.35476294e-01\n",
            "  -6.25284469e-02 -1.44683195e-01  1.86459695e-01 -1.20761347e-01\n",
            "   4.14086200e-02 -2.00398350e-02]\n",
            " [ 3.18746368e-02  2.77918718e-02 -6.61342558e-02 -4.42270484e-03\n",
            "   4.97795045e-02 -2.74503517e-02 -5.39433172e-02  4.57717882e-02\n",
            "  -3.21053656e-02  2.74282230e-02]]\n",
            "Time taken:  6.556510925292969e-05\n"
          ]
        }
      ]
    },
    {
      "cell_type": "markdown",
      "source": [
        "The output from Matlab simulation for the above matrices:\n",
        "\n",
        "For 5x5 matrix:\n",
        "```\n",
        "   -0.1055    0.5450   -0.2996   -0.3483    0.1468\n",
        "   -0.0832    0.0162    0.1099   -0.0054    0.0003\n",
        "    0.1684   -0.3987    0.3629    0.1329   -0.1958\n",
        "    0.0798   -0.4058    0.2523    0.1353   -0.0085\n",
        "    0.0781   -0.1006   -0.0666    0.2002   -0.0125\n",
        "```        \n",
        "```    \n",
        "    Elapsed time is 0.000245 seconds.\n",
        "```\n",
        "\n",
        "For 6x6 matrix:\n",
        "```\n",
        "    0.5530   -0.5563   -0.2026   -0.0524    0.5394   -0.5256\n",
        "   -0.4834    0.5762    0.3089   -0.1698   -0.2860    0.2619\n",
        "    1.2616   -1.4967   -0.4747    0.3721    0.7544   -0.6803\n",
        "   -0.6954    0.8013    0.1192    0.0397   -0.4437    0.3642\n",
        "   -0.0099   -0.1457   -0.0671    0.0837    0.0807    0.1156\n",
        "   -1.5927    1.9735    0.7523   -0.4311   -1.3076    1.2607\n",
        "```\n",
        "```\n",
        "    Elapsed time is 0.000156 seconds.\n",
        "```\n",
        "\n",
        "For 7x7 matrix:\n",
        "```\n",
        "    0.0317   -0.1095    0.1244    0.1633    0.0330    0.0838   -0.2823\n",
        "    0.2668   -0.5020    0.2989    0.3558    0.1133    0.0806   -0.5376\n",
        "   -0.1705   -0.2307    0.2811    0.1194    0.1160    0.0294   -0.1204\n",
        "    0.0715    0.1382   -0.2417   -0.0400    0.0123   -0.0367    0.1335\n",
        "   -0.0232   -0.9301    0.6826    0.4008    0.4936    0.3240   -0.8139\n",
        "    0.0517    1.8465   -1.2405   -0.9292   -0.8857   -0.6020    1.5895\n",
        "   -0.1845   -1.0247    0.6965    0.4019    0.4954    0.4172   -0.6804\n",
        "```\n",
        "```\n",
        "    Elapsed time is 0.000551 seconds.\n",
        "```\n",
        "For 8x8 matrix:\n",
        "```\n",
        "    0.1250    0.0567    0.0763   -0.0931   -0.2382    0.0665   -0.0087   -0.0244\n",
        "   -0.1864   -0.0872   -0.0045    0.2915    0.2466   -0.1881    0.0321    0.0293\n",
        "    0.0532    0.1051   -0.0061   -0.1118   -0.1046    0.2536   -0.0970   -0.0797\n",
        "    0.0674    0.1942   -0.0426   -0.2689   -0.2319    0.2421   -0.0050   -0.0044\n",
        "   -0.1219   -0.1455    0.0132    0.1976    0.3560   -0.2682    0.0018    0.0685\n",
        "   -0.0912   -0.2289    0.0318    0.2316    0.2449   -0.2239    0.0188    0.1492\n",
        "    0.2511    0.1875   -0.1308   -0.2508   -0.2632    0.1649   -0.0004   -0.0974\n",
        "   -0.0164    0.0888    0.0915   -0.1933   -0.1986    0.1220    0.1848   -0.0660\n",
        "```\n",
        "```\n",
        "    Elapsed time is 0.000177 seconds.\n",
        "```\n",
        "\n",
        "For 9x9 matrix:\n",
        "```\n",
        "    0.0655   -0.0589   -0.0143   -0.0214    0.2197    0.1992   -0.0553   -0.1448   -0.1115\n",
        "   -0.0134   -0.0115    0.0339    0.0668    0.1119    0.1587   -0.0439   -0.1227   -0.1274\n",
        "    0.0193   -0.0120   -0.0049    0.0534   -0.2321   -0.3169    0.1427    0.1963    0.1781\n",
        "    0.0022    0.1901   -0.0016   -0.1378   -0.2699   -0.3570    0.1411    0.2012    0.1776\n",
        "   -0.0806   -0.0995   -0.0245    0.0567   -0.0665    0.0806    0.0723    0.0502    0.0263\n",
        "    0.1485   -0.1293   -0.1451    0.2253    0.1841    0.5421   -0.1056   -0.2521   -0.3388\n",
        "   -0.0758    0.1381   -0.0001   -0.1352   -0.0380   -0.2951    0.0415    0.1133    0.2138\n",
        "   -0.0373    0.0378    0.1166   -0.0295   -0.0373   -0.1014   -0.1003   -0.0051    0.1221\n",
        "   -0.0305   -0.0849    0.1067   -0.0589    0.1050    0.0229   -0.0231    0.1208   -0.1160\n",
        "```\n",
        "```\n",
        "    Elapsed time is 0.000180 seconds.\n",
        "```\n",
        "For 10x10 matrix:\n",
        "```\n",
        "   -0.0112    0.0892   -0.0331   -0.1437    0.0979    0.0028   -0.0701    0.0269    0.0970    0.0002\n",
        "   -0.0962   -0.2371    0.1797    0.1765    0.0952    0.0802   -0.0005   -0.0432   -0.0785   -0.0749\n",
        "    0.1820    0.0426   -0.0854   -0.0820   -0.1354    0.0379   -0.0511   -0.0291   -0.1260    0.2286\n",
        "   -0.1794   -0.0122    0.0520    0.1357    0.1197    0.1741   -0.0942   -0.0525   -0.0226   -0.1541\n",
        "   -0.0244    0.2233   -0.0741   -0.0922   -0.0420    0.0574   -0.1984    0.0545   -0.0013    0.1030\n",
        "    0.1062    0.2293   -0.0560   -0.2743   -0.0782   -0.0988    0.0657    0.1005    0.0811    0.0467\n",
        "   -0.0414   -0.1723    0.0350    0.1318    0.0149   -0.0605    0.2218   -0.0535   -0.0057   -0.0331\n",
        "   -0.0601   -0.0121    0.0326    0.0339   -0.0112    0.0487   -0.0555    0.0772    0.0518   -0.0862\n",
        "    0.1053   -0.1525    0.0464    0.1355   -0.0625   -0.1447    0.1865   -0.1208    0.0414   -0.0200\n",
        "    0.0319    0.0278   -0.0661   -0.0044    0.0498   -0.0275   -0.0539    0.0458   -0.0321    0.0274\n",
        "```\n",
        "```\n",
        "    Elapsed time is 0.000199 seconds.\n",
        "```"
      ],
      "metadata": {
        "id": "nc53R67200I-"
      }
    },
    {
      "cell_type": "markdown",
      "source": [
        "### Elapsed time consideration\n",
        "\n",
        "For Matlab and for python, the elapsed time is not a smooth monotonically increasing function of the size of the matrix. Ideally it is expected that the time taken should increase with the size but in this small range of n, the value is not affected much and is mostly in the same range with no continuous increasing order."
      ],
      "metadata": {
        "id": "yu8T9z4_3Gpm"
      }
    },
    {
      "cell_type": "markdown",
      "source": [
        "## Frobenius Norm"
      ],
      "metadata": {
        "id": "ULpi9a9rApv3"
      }
    },
    {
      "cell_type": "code",
      "source": [
        "## Frobenius norm value from Python inverse matrices\n",
        "fro_p = []\n",
        "for inv in inv_list:\n",
        "  norm = np.linalg.norm(inv)\n",
        "  fro_p.append(norm)\n",
        "  print(\"Norm for matrix of size {}: \".format(len(inv)), norm)"
      ],
      "metadata": {
        "colab": {
          "base_uri": "https://localhost:8080/",
          "height": 0
        },
        "id": "ifC1GB_h46Jn",
        "outputId": "e0fb09d0-4cdb-4517-dcd7-37637bd9e213"
      },
      "execution_count": 50,
      "outputs": [
        {
          "output_type": "stream",
          "name": "stdout",
          "text": [
            "Norm for matrix of size 5:  1.1176160087899154\n",
            "Norm for matrix of size 6:  4.393180722692502\n",
            "Norm for matrix of size 7:  3.9877858603258014\n",
            "Norm for matrix of size 8:  1.274479321277291\n",
            "Norm for matrix of size 9:  1.334760328901145\n",
            "Norm for matrix of size 10:  1.0356559811579045\n"
          ]
        }
      ]
    },
    {
      "cell_type": "markdown",
      "source": [
        "Frobenius Norm values from Matlab:\n",
        "\n",
        "For n = 5:\n",
        "\n",
        "      1.1176\n",
        "\n",
        "For n=6:\n",
        "\n",
        "      4.3932\n",
        "\n",
        "\n",
        "For n = 7:\n",
        "\n",
        "      3.9878\n",
        "\n",
        "For n = 8:\n",
        "\n",
        "      1.2745\n",
        "\n",
        "\n",
        "For n = 9:\n",
        "\n",
        "      1.3348\n",
        "\n",
        "\n",
        "For n = 10:\n",
        "\n",
        "      1.0357"
      ],
      "metadata": {
        "id": "flAugWvc8wRL"
      }
    },
    {
      "cell_type": "code",
      "source": [
        "## Frobenius Norms from Matlab\n",
        "\n",
        "fro_m = [1.1176, 4.3932, 3.9878, 1.2745, 1.3348, 1.0357]"
      ],
      "metadata": {
        "id": "JiAuoW6V9Pol"
      },
      "execution_count": 51,
      "outputs": []
    },
    {
      "cell_type": "code",
      "source": [
        "import matplotlib.pyplot as plt\n",
        "\n",
        "y = [abs(a-b) for a, b in zip(fro_p, fro_m)]\n",
        "plt.plot(range(5, 11), y)"
      ],
      "metadata": {
        "colab": {
          "base_uri": "https://localhost:8080/",
          "height": 293
        },
        "id": "bFWPmKHo9JOz",
        "outputId": "6604ca04-9567-4a53-cce4-cf5341b5f58c"
      },
      "execution_count": 52,
      "outputs": [
        {
          "output_type": "execute_result",
          "data": {
            "text/plain": [
              "[<matplotlib.lines.Line2D at 0x7fd581e94f50>]"
            ]
          },
          "metadata": {},
          "execution_count": 52
        },
        {
          "output_type": "display_data",
          "data": {
            "image/png": "[encoded data removed]",
            "text/plain": [
              "<Figure size 432x288 with 1 Axes>"
            ]
          },
          "metadata": {
            "needs_background": "light"
          }
        }
      ]
    },
    {
      "cell_type": "markdown",
      "source": [
        "The difference in Frobenius norm is very minimal and can be considered insignificant for these matrices. Matlab provided the norm values as rounded off numbers after 4 decimal places and it can be seen that all the values from python round off to the same value obtained from Matlab script. Therefore, the plot also has errors in the order of 10e-5."
      ],
      "metadata": {
        "id": "qJbGzZTo_0Kh"
      }
    }
  ]
}