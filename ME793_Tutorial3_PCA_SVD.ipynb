{
 "cells": [
  {
   "cell_type": "markdown",
   "metadata": {},
   "source": [
    "# Tutorial 3 - Principal Component Analysis"
   ]
  },
  {
   "cell_type": "code",
   "execution_count": 2,
   "metadata": {},
   "outputs": [],
   "source": [
    "import numpy as np\n",
    "import pandas as pd\n",
    "from scipy import linalg"
   ]
  },
  {
   "cell_type": "code",
   "execution_count": 65,
   "metadata": {
    "scrolled": false
   },
   "outputs": [],
   "source": [
    "#data = pd.read_csv('Assign1_data.csv')\n",
    "#data\n",
    "#data.shape\n",
    "#M = data.values # this will convert data into a numpy array"
   ]
  },
  {
   "cell_type": "code",
   "execution_count": 22,
   "metadata": {},
   "outputs": [],
   "source": [
    "M=np.array([[1,2,3],\n",
    "   [4,3,7],\n",
    "   [7,6,6]])"
   ]
  },
  {
   "cell_type": "markdown",
   "metadata": {},
   "source": [
    "# Method 1: "
   ]
  },
  {
   "cell_type": "code",
   "execution_count": 6,
   "metadata": {},
   "outputs": [
    {
     "data": {
      "text/plain": [
       "(4, 3)"
      ]
     },
     "execution_count": 6,
     "metadata": {},
     "output_type": "execute_result"
    }
   ],
   "source": [
    "#extract dimensions of matrix\n",
    "m,n = M.shape\n",
    "M.shape"
   ]
  },
  {
   "cell_type": "code",
   "execution_count": 7,
   "metadata": {},
   "outputs": [
    {
     "data": {
      "text/plain": [
       "array([4.5, 3.5, 5. ])"
      ]
     },
     "execution_count": 7,
     "metadata": {},
     "output_type": "execute_result"
    }
   ],
   "source": [
    "#mean of each dimension\n",
    "mn=np.mean(M,axis=0) # this will determine mean of each column\n",
    "mn"
   ]
  },
  {
   "cell_type": "code",
   "execution_count": 8,
   "metadata": {},
   "outputs": [
    {
     "data": {
      "text/plain": [
       "array([[4.5, 3.5, 5. ],\n",
       "       [4.5, 3.5, 5. ],\n",
       "       [4.5, 3.5, 5. ],\n",
       "       [4.5, 3.5, 5. ]])"
      ]
     },
     "execution_count": 8,
     "metadata": {},
     "output_type": "execute_result"
    }
   ],
   "source": [
    "#create a matix of m rows(equal to observations)\n",
    "Q=np.tile(mn, (m, 1)) # this is storing mean in each corresponding column\n",
    "Q"
   ]
  },
  {
   "cell_type": "code",
   "execution_count": 8,
   "metadata": {},
   "outputs": [
    {
     "data": {
      "text/plain": [
       "array([[-3.5, -1.5, -2. ],\n",
       "       [-0.5, -0.5,  2. ],\n",
       "       [ 2.5,  2.5,  1. ],\n",
       "       [ 1.5, -0.5, -1. ]])"
      ]
     },
     "execution_count": 8,
     "metadata": {},
     "output_type": "execute_result"
    }
   ],
   "source": [
    "#subtract mean of each dimension from respective colummn\n",
    "M1 = M-Q # this will give a zero mean data\n",
    "M1"
   ]
  },
  {
   "cell_type": "code",
   "execution_count": 9,
   "metadata": {},
   "outputs": [
    {
     "data": {
      "text/plain": [
       "array([[ 6.16666667, -0.5       , -4.83333333, -0.83333333],\n",
       "       [-0.5       ,  1.5       , -0.16666667, -0.83333333],\n",
       "       [-4.83333333, -0.16666667,  4.5       ,  0.5       ],\n",
       "       [-0.83333333, -0.83333333,  0.5       ,  1.16666667]])"
      ]
     },
     "execution_count": 9,
     "metadata": {},
     "output_type": "execute_result"
    }
   ],
   "source": [
    "#calculate covariance matrix\n",
    "covariance = (1 / (m-1)) * np.matmul(M1, M1.transpose())\n",
    "covariance"
   ]
  },
  {
   "cell_type": "code",
   "execution_count": 47,
   "metadata": {},
   "outputs": [],
   "source": [
    "#extract eigen values & eigen vectors of covariance matrix\n",
    "w,v = np.linalg.eig(covariance)"
   ]
  },
  {
   "cell_type": "code",
   "execution_count": 48,
   "metadata": {},
   "outputs": [
    {
     "name": "stdout",
     "output_type": "stream",
     "text": [
      "[ 1.53290584e+01 -6.45615104e-16  2.33760824e+00] (3,)\n"
     ]
    }
   ],
   "source": [
    "#The eigenvalues\n",
    "print(w,w.shape)"
   ]
  },
  {
   "cell_type": "code",
   "execution_count": 74,
   "metadata": {},
   "outputs": [
    {
     "name": "stdout",
     "output_type": "stream",
     "text": [
      "[[-0.73679906  0.57735027  0.35184345]\n",
      " [ 0.06369416  0.57735027 -0.81400843]\n",
      " [ 0.6731049   0.57735027  0.46216498]] (3, 3)\n"
     ]
    }
   ],
   "source": [
    "#The eigenvectors or the Principal components\n",
    "print(v,v.shape)"
   ]
  },
  {
   "cell_type": "code",
   "execution_count": 51,
   "metadata": {},
   "outputs": [
    {
     "name": "stdout",
     "output_type": "stream",
     "text": [
      "[[ 4.22971186e+00  2.75611375e+00  2.27409134e+00]\n",
      " [ 8.88178420e-16  6.66133815e-16  7.77156117e-16]\n",
      " [ 3.30964575e-01  1.03465148e+00 -1.86953878e+00]] (3, 3)\n"
     ]
    }
   ],
   "source": [
    "# now the data can be projected along the principal directions.\n",
    "projected_data1 = np.matmul(v.transpose(),M1)\n",
    "# we use transpose of v since in the 'transformation matrix'\n",
    "# the directions of PCs should be row vectors. Remember the P maxtrix in lecture.\n",
    "print(projected_data1,projected_data1.shape)"
   ]
  },
  {
   "cell_type": "markdown",
   "metadata": {},
   "source": [
    "# Method 2"
   ]
  },
  {
   "cell_type": "code",
   "execution_count": 23,
   "metadata": {},
   "outputs": [
    {
     "data": {
      "text/plain": [
       "(3, 3)"
      ]
     },
     "execution_count": 23,
     "metadata": {},
     "output_type": "execute_result"
    }
   ],
   "source": [
    "m,n = M.shape\n",
    "M.shape"
   ]
  },
  {
   "cell_type": "code",
   "execution_count": 24,
   "metadata": {},
   "outputs": [
    {
     "data": {
      "text/plain": [
       "array([4.        , 3.66666667, 5.33333333])"
      ]
     },
     "execution_count": 24,
     "metadata": {},
     "output_type": "execute_result"
    }
   ],
   "source": [
    "mn=np.mean(M,axis=0)\n",
    "mn"
   ]
  },
  {
   "cell_type": "code",
   "execution_count": 25,
   "metadata": {},
   "outputs": [
    {
     "data": {
      "text/plain": [
       "array([[-3.        , -1.66666667, -2.33333333],\n",
       "       [ 0.        , -0.66666667,  1.66666667],\n",
       "       [ 3.        ,  2.33333333,  0.66666667]])"
      ]
     },
     "execution_count": 25,
     "metadata": {},
     "output_type": "execute_result"
    }
   ],
   "source": [
    "M2 = M-np.tile(mn,(m,1))\n",
    "M2"
   ]
  },
  {
   "cell_type": "code",
   "execution_count": 26,
   "metadata": {},
   "outputs": [
    {
     "data": {
      "text/plain": [
       "array([[-2.12132034,  0.        ,  2.12132034],\n",
       "       [-1.1785113 , -0.47140452,  1.64991582],\n",
       "       [-1.64991582,  1.1785113 ,  0.47140452]])"
      ]
     },
     "execution_count": 26,
     "metadata": {},
     "output_type": "execute_result"
    }
   ],
   "source": [
    "Y= M2.transpose() / np.sqrt(n-1)\n",
    "Y"
   ]
  },
  {
   "cell_type": "code",
   "execution_count": 27,
   "metadata": {},
   "outputs": [],
   "source": [
    "U, S, VT = linalg.svd(Y)"
   ]
  },
  {
   "cell_type": "code",
   "execution_count": 28,
   "metadata": {},
   "outputs": [
    {
     "name": "stdout",
     "output_type": "stream",
     "text": [
      "[[ 0.73679906 -0.06369416 -0.6731049 ]\n",
      " [-0.35184345  0.81400843 -0.46216498]\n",
      " [ 0.57735027  0.57735027  0.57735027]] (3, 3)\n"
     ]
    }
   ],
   "source": [
    "print(VT,VT.shape)"
   ]
  },
  {
   "cell_type": "code",
   "execution_count": 29,
   "metadata": {},
   "outputs": [
    {
     "data": {
      "text/plain": [
       "array([[-0.7639027 , -0.15306667, -0.62691567],\n",
       "       [-0.49776505, -0.47851243,  0.72336423],\n",
       "       [-0.4107099 ,  0.8646366 ,  0.28934569]])"
      ]
     },
     "execution_count": 29,
     "metadata": {},
     "output_type": "execute_result"
    }
   ],
   "source": [
    "U"
   ]
  },
  {
   "cell_type": "code",
   "execution_count": 30,
   "metadata": {},
   "outputs": [
    {
     "data": {
      "text/plain": [
       "array([3.91523415e+00, 1.52892388e+00, 2.28116471e-16])"
      ]
     },
     "execution_count": 30,
     "metadata": {},
     "output_type": "execute_result"
    }
   ],
   "source": [
    "S"
   ]
  },
  {
   "cell_type": "code",
   "execution_count": 31,
   "metadata": {},
   "outputs": [
    {
     "data": {
      "text/plain": [
       "array([[3.91523415e+00, 0.00000000e+00, 0.00000000e+00],\n",
       "       [0.00000000e+00, 1.52892388e+00, 0.00000000e+00],\n",
       "       [0.00000000e+00, 0.00000000e+00, 2.28116471e-16]])"
      ]
     },
     "execution_count": 31,
     "metadata": {},
     "output_type": "execute_result"
    }
   ],
   "source": [
    "S = np.diag(S) # this is the matrix of singular values i.e. \\sqrt(lambda)\n",
    "S"
   ]
  },
  {
   "cell_type": "code",
   "execution_count": 32,
   "metadata": {},
   "outputs": [
    {
     "data": {
      "text/plain": [
       "array([[1.53290584e+01, 0.00000000e+00, 0.00000000e+00],\n",
       "       [0.00000000e+00, 2.33760824e+00, 0.00000000e+00],\n",
       "       [0.00000000e+00, 0.00000000e+00, 5.20371245e-32]])"
      ]
     },
     "execution_count": 32,
     "metadata": {},
     "output_type": "execute_result"
    }
   ],
   "source": [
    "V = np.multiply(S,S) # This will give lambda values\n",
    "V"
   ]
  },
  {
   "cell_type": "code",
   "execution_count": 33,
   "metadata": {},
   "outputs": [
    {
     "name": "stdout",
     "output_type": "stream",
     "text": [
      "[[-0.47834637  0.3537145  -1.92070338]\n",
      " [ 1.92313329  0.91063528  1.8902006 ]\n",
      " [ 3.7513655   2.77710211  1.18520331]] (3, 3)\n"
     ]
    }
   ],
   "source": [
    "proj_data = np.matmul(VT.transpose(),M2) # now the data can be projected along the principal directions.\n",
    "print(proj_data, proj_data.shape)"
   ]
  },
  {
   "cell_type": "code",
   "execution_count": 34,
   "metadata": {},
   "outputs": [
    {
     "name": "stdout",
     "output_type": "stream",
     "text": [
      "[[4.5        2.5        3.5       ]\n",
      " [2.5        1.61111111 1.38888889]\n",
      " [3.5        1.38888889 4.11111111]]\n"
     ]
    }
   ],
   "source": [
    "print(np.cov(proj_data.T))"
   ]
  },
  {
   "cell_type": "markdown",
   "metadata": {},
   "source": [
    "# Try the above using standardizing your data"
   ]
  },
  {
   "cell_type": "code",
   "execution_count": 63,
   "metadata": {},
   "outputs": [],
   "source": [
    "def standardize(X): # X is the input data\n",
    "    mu=sum(X)/len(X)\n",
    "    var=sum((X-mu)**2)/len(X)\n",
    "    z=(X-mu)/(var**0.5)\n",
    "    return z"
   ]
  },
  {
   "cell_type": "code",
   "execution_count": null,
   "metadata": {},
   "outputs": [],
   "source": []
  }
 ],
 "metadata": {
  "kernelspec": {
   "display_name": "Python 3 (ipykernel)",
   "language": "python",
   "name": "python3"
  },
  "language_info": {
   "codemirror_mode": {
    "name": "ipython",
    "version": 3
   },
   "file_extension": ".py",
   "mimetype": "text/x-python",
   "name": "python",
   "nbconvert_exporter": "python",
   "pygments_lexer": "ipython3",
   "version": "3.8.11"
  }
 },
 "nbformat": 4,
 "nbformat_minor": 4
}
