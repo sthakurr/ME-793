{
 "cells": [
  {
   "cell_type": "markdown",
   "id": "34d5be39",
   "metadata": {},
   "source": [
    "# ME-793 Assignment 4"
   ]
  },
  {
   "cell_type": "code",
   "execution_count": 8,
   "id": "ec97557e",
   "metadata": {},
   "outputs": [],
   "source": [
    "import numpy as np\n",
    "import pandas as pd\n",
    "from sklearn.linear_model import LinearRegression\n",
    "import matplotlib.pyplot as plt\n",
    "import seaborn as sns"
   ]
  },
  {
   "cell_type": "code",
   "execution_count": 41,
   "id": "a7cf5c12",
   "metadata": {},
   "outputs": [
    {
     "data": {
      "text/html": [
       "<div>\n",
       "<style scoped>\n",
       "    .dataframe tbody tr th:only-of-type {\n",
       "        vertical-align: middle;\n",
       "    }\n",
       "\n",
       "    .dataframe tbody tr th {\n",
       "        vertical-align: top;\n",
       "    }\n",
       "\n",
       "    .dataframe thead th {\n",
       "        text-align: right;\n",
       "    }\n",
       "</style>\n",
       "<table border=\"1\" class=\"dataframe\">\n",
       "  <thead>\n",
       "    <tr style=\"text-align: right;\">\n",
       "      <th></th>\n",
       "      <th>Symbol</th>\n",
       "      <th>Atomic Number</th>\n",
       "      <th>Electronegativity</th>\n",
       "      <th>Atomic Radii (pm)</th>\n",
       "      <th>Thermal Conductivity</th>\n",
       "      <th>Density</th>\n",
       "      <th>Crystal System</th>\n",
       "    </tr>\n",
       "  </thead>\n",
       "  <tbody>\n",
       "    <tr>\n",
       "      <th>0</th>\n",
       "      <td>H</td>\n",
       "      <td>1</td>\n",
       "      <td>2.20</td>\n",
       "      <td>53.0</td>\n",
       "      <td>0.1805</td>\n",
       "      <td>0.000090</td>\n",
       "      <td>Simple Hexagonal</td>\n",
       "    </tr>\n",
       "    <tr>\n",
       "      <th>1</th>\n",
       "      <td>He</td>\n",
       "      <td>2</td>\n",
       "      <td>NaN</td>\n",
       "      <td>31.0</td>\n",
       "      <td>0.1513</td>\n",
       "      <td>0.000179</td>\n",
       "      <td>Face Centered Cubic</td>\n",
       "    </tr>\n",
       "    <tr>\n",
       "      <th>2</th>\n",
       "      <td>Li</td>\n",
       "      <td>3</td>\n",
       "      <td>0.98</td>\n",
       "      <td>167.0</td>\n",
       "      <td>85.0000</td>\n",
       "      <td>0.534000</td>\n",
       "      <td>Body Centered Cubic</td>\n",
       "    </tr>\n",
       "    <tr>\n",
       "      <th>3</th>\n",
       "      <td>Be</td>\n",
       "      <td>4</td>\n",
       "      <td>1.57</td>\n",
       "      <td>112.0</td>\n",
       "      <td>190.0000</td>\n",
       "      <td>1.850000</td>\n",
       "      <td>Simple Hexagonal</td>\n",
       "    </tr>\n",
       "    <tr>\n",
       "      <th>4</th>\n",
       "      <td>B</td>\n",
       "      <td>5</td>\n",
       "      <td>2.04</td>\n",
       "      <td>87.0</td>\n",
       "      <td>27.0000</td>\n",
       "      <td>2.340000</td>\n",
       "      <td>Simple Trigonal</td>\n",
       "    </tr>\n",
       "  </tbody>\n",
       "</table>\n",
       "</div>"
      ],
      "text/plain": [
       "  Symbol  Atomic Number  Electronegativity  Atomic Radii (pm)  \\\n",
       "0      H              1               2.20               53.0   \n",
       "1     He              2                NaN               31.0   \n",
       "2     Li              3               0.98              167.0   \n",
       "3     Be              4               1.57              112.0   \n",
       "4      B              5               2.04               87.0   \n",
       "\n",
       "   Thermal Conductivity   Density       Crystal System  \n",
       "0                0.1805  0.000090     Simple Hexagonal  \n",
       "1                0.1513  0.000179  Face Centered Cubic  \n",
       "2               85.0000  0.534000  Body Centered Cubic  \n",
       "3              190.0000  1.850000     Simple Hexagonal  \n",
       "4               27.0000  2.340000      Simple Trigonal  "
      ]
     },
     "execution_count": 41,
     "metadata": {},
     "output_type": "execute_result"
    }
   ],
   "source": [
    "data = pd.read_csv('Periodic-table-final.csv')\n",
    "data.head()"
   ]
  },
  {
   "cell_type": "code",
   "execution_count": 28,
   "id": "c5570c4e",
   "metadata": {},
   "outputs": [
    {
     "name": "stdout",
     "output_type": "stream",
     "text": [
      "<class 'pandas.core.frame.DataFrame'>\n",
      "RangeIndex: 118 entries, 0 to 117\n",
      "Data columns (total 7 columns):\n",
      " #   Column                Non-Null Count  Dtype  \n",
      "---  ------                --------------  -----  \n",
      " 0   Symbol                118 non-null    object \n",
      " 1   Atomic Number         118 non-null    int64  \n",
      " 2   Electronegativity     96 non-null     float64\n",
      " 3   Atomic Radii (pm)     86 non-null     float64\n",
      " 4   Thermal Conductivity  94 non-null     float64\n",
      " 5   Density               105 non-null    float64\n",
      " 6   Crystal System        113 non-null    object \n",
      "dtypes: float64(4), int64(1), object(2)\n",
      "memory usage: 6.6+ KB\n"
     ]
    }
   ],
   "source": [
    "data.info()"
   ]
  },
  {
   "cell_type": "markdown",
   "id": "8074388d",
   "metadata": {},
   "source": [
    "# Linear Regression\n",
    "\n",
    "Develop a Linear Regression based model where electronegativity is X and thermal conductivity is Y."
   ]
  },
  {
   "cell_type": "code",
   "execution_count": 42,
   "id": "9d35353e",
   "metadata": {},
   "outputs": [
    {
     "name": "stdout",
     "output_type": "stream",
     "text": [
      "<class 'pandas.core.frame.DataFrame'>\n",
      "Int64Index: 88 entries, 0 to 96\n",
      "Data columns (total 7 columns):\n",
      " #   Column                Non-Null Count  Dtype  \n",
      "---  ------                --------------  -----  \n",
      " 0   Symbol                88 non-null     object \n",
      " 1   Atomic Number         88 non-null     int64  \n",
      " 2   Electronegativity     88 non-null     float64\n",
      " 3   Atomic Radii (pm)     79 non-null     float64\n",
      " 4   Thermal Conductivity  88 non-null     float64\n",
      " 5   Density               88 non-null     float64\n",
      " 6   Crystal System        88 non-null     object \n",
      "dtypes: float64(4), int64(1), object(2)\n",
      "memory usage: 5.5+ KB\n"
     ]
    }
   ],
   "source": [
    "data = data.dropna(subset=['Electronegativity', 'Thermal Conductivity'])\n",
    "data.info()"
   ]
  },
  {
   "cell_type": "code",
   "execution_count": 43,
   "id": "38209508",
   "metadata": {},
   "outputs": [],
   "source": [
    "x = data['Electronegativity'].to_numpy().reshape((-1,1))\n",
    "y = data['Thermal Conductivity'].to_numpy().reshape((-1,1))\n",
    "model = LinearRegression().fit(x, y)"
   ]
  },
  {
   "cell_type": "code",
   "execution_count": 44,
   "id": "ebfc3af6",
   "metadata": {},
   "outputs": [
    {
     "name": "stdout",
     "output_type": "stream",
     "text": [
      "Coefficient of determination: 0.0034400371551558395\n"
     ]
    }
   ],
   "source": [
    "r_sq = model.score(x, y)\n",
    "print('Coefficient of determination:', r_sq)"
   ]
  },
  {
   "cell_type": "code",
   "execution_count": 45,
   "id": "a472a450",
   "metadata": {},
   "outputs": [
    {
     "name": "stdout",
     "output_type": "stream",
     "text": [
      "intercept: [48.82571072]\n",
      "slope: [[7.6155365]]\n"
     ]
    }
   ],
   "source": [
    "print('intercept:', model.intercept_)\n",
    "print('slope:', model.coef_)"
   ]
  },
  {
   "cell_type": "code",
   "execution_count": 46,
   "id": "38cb7493",
   "metadata": {},
   "outputs": [],
   "source": [
    "y_pred = model.intercept_ + model.coef_ * x"
   ]
  },
  {
   "cell_type": "code",
   "execution_count": 47,
   "id": "51e5f00a",
   "metadata": {},
   "outputs": [
    {
     "data": {
      "image/png": "[encoded data removed]",
      "text/plain": [
       "<Figure size 432x288 with 1 Axes>"
      ]
     },
     "metadata": {
      "needs_background": "light"
     },
     "output_type": "display_data"
    }
   ],
   "source": [
    "plt.plot(x,y_pred)\n",
    "plt.xlabel(\"X\",fontsize=20)\n",
    "plt.ylabel(\"Y\",fontsize=20)\n",
    "plt.scatter(x,y,color='red')\n",
    "plt.xticks(fontsize=20)\n",
    "plt.yticks(fontsize=20)\n",
    "#plt.scatter(x,y+dy)\n",
    "plt.vlines(x,y,y_pred)\n",
    "plt.show()"
   ]
  },
  {
   "cell_type": "markdown",
   "id": "62db5095",
   "metadata": {},
   "source": [
    "It can be seen that Y: 'Thermal Conductivity' is not a straight linear function of X: 'Electronegativity' and so the linear relation obtained has high errors associated with it. Also, there are a few extreme outliers to this model; the ones with the Y values >300 and they are contributing substantially to the high error and low R-sq value obtained."
   ]
  },
  {
   "cell_type": "markdown",
   "id": "0c1676c4",
   "metadata": {},
   "source": [
    "# Multilinear Regression\n",
    "\n",
    "Develop a MultiLinear Regression based model where electronegativity is X1 and density is X2 and thermal conductivity is Y."
   ]
  },
  {
   "cell_type": "code",
   "execution_count": 83,
   "id": "4c6975df",
   "metadata": {},
   "outputs": [],
   "source": [
    "x = np.array([data['Electronegativity'], data['Density']]).reshape((-1,2))\n",
    "y = np.array(data['Thermal Conductivity']).reshape((-1,1))"
   ]
  },
  {
   "cell_type": "code",
   "execution_count": 84,
   "id": "002de77f",
   "metadata": {},
   "outputs": [],
   "source": [
    "model = LinearRegression().fit(x, y)"
   ]
  },
  {
   "cell_type": "code",
   "execution_count": 85,
   "id": "a61a84b0",
   "metadata": {},
   "outputs": [
    {
     "name": "stdout",
     "output_type": "stream",
     "text": [
      "Coefficient of determination:  0.06650690347807742\n",
      "intercept: [81.09966086]\n",
      "slope: [[ 2.46910768 -6.27902953]]\n"
     ]
    }
   ],
   "source": [
    "r_sq = model.score(x, y)\n",
    "print('Coefficient of determination: ', r_sq)\n",
    "print('intercept:', model.intercept_)\n",
    "print('slope:', model.coef_)"
   ]
  },
  {
   "cell_type": "code",
   "execution_count": 86,
   "id": "56e1b072",
   "metadata": {},
   "outputs": [],
   "source": [
    "y_pred = model.predict(x)"
   ]
  },
  {
   "cell_type": "code",
   "execution_count": 87,
   "id": "c366ab7a",
   "metadata": {},
   "outputs": [
    {
     "data": {
      "image/png": "[encoded data removed]",
      "text/plain": [
       "<Figure size 432x288 with 1 Axes>"
      ]
     },
     "metadata": {
      "needs_background": "light"
     },
     "output_type": "display_data"
    }
   ],
   "source": [
    "# Electronegativity\n",
    "plt.plot(x[:,0],y_pred)\n",
    "plt.xlabel(\"X\",fontsize=20)\n",
    "plt.ylabel(\"Y\",fontsize=20)\n",
    "plt.scatter(x[:,0],y,color='red')\n",
    "plt.xticks(fontsize=20)\n",
    "plt.yticks(fontsize=20)\n",
    "plt.vlines(x[:,0],y,y_pred)\n",
    "plt.show()"
   ]
  },
  {
   "cell_type": "markdown",
   "id": "7e7a41c7",
   "metadata": {},
   "source": [
    "The graph for 'Electronegativity' v/s 'Thermal Conductivity' can be seen as very different than that obtained from the linear regression. This multinomial regression allows for extra information obtained from the second variable 'Density' and hence is leading to an improved R-square value too."
   ]
  },
  {
   "cell_type": "code",
   "execution_count": 88,
   "id": "0122a76f",
   "metadata": {},
   "outputs": [
    {
     "data": {
      "image/png": "[encoded data removed]",
      "text/plain": [
       "<Figure size 432x288 with 1 Axes>"
      ]
     },
     "metadata": {
      "needs_background": "light"
     },
     "output_type": "display_data"
    }
   ],
   "source": [
    "# Density\n",
    "plt.plot(x[:,1],y_pred)\n",
    "plt.xlabel(\"X\",fontsize=20)\n",
    "plt.ylabel(\"Y\",fontsize=20)\n",
    "plt.scatter(x[:,1],y,color='red')\n",
    "plt.xticks(fontsize=20)\n",
    "plt.yticks(fontsize=20)\n",
    "plt.vlines(x[:,1],y,y_pred)\n",
    "plt.show()"
   ]
  },
  {
   "cell_type": "markdown",
   "id": "42f350fc",
   "metadata": {},
   "source": [
    "# Gradient Descent"
   ]
  },
  {
   "cell_type": "code",
   "execution_count": 63,
   "id": "76c16e82",
   "metadata": {},
   "outputs": [],
   "source": [
    "from sklearn.linear_model import SGDRegressor\n",
    "from sklearn.pipeline import make_pipeline\n",
    "from sklearn.preprocessing import StandardScaler"
   ]
  },
  {
   "cell_type": "code",
   "execution_count": 64,
   "id": "d4f43853",
   "metadata": {},
   "outputs": [
    {
     "name": "stderr",
     "output_type": "stream",
     "text": [
      "/home/saumya/anaconda3/lib/python3.8/site-packages/sklearn/utils/validation.py:63: DataConversionWarning: A column-vector y was passed when a 1d array was expected. Please change the shape of y to (n_samples, ), for example using ravel().\n",
      "  return f(*args, **kwargs)\n"
     ]
    },
    {
     "data": {
      "text/plain": [
       "Pipeline(steps=[('standardscaler', StandardScaler()),\n",
       "                ('sgdregressor', SGDRegressor())])"
      ]
     },
     "execution_count": 64,
     "metadata": {},
     "output_type": "execute_result"
    }
   ],
   "source": [
    "reg = make_pipeline(StandardScaler(), SGDRegressor())\n",
    "reg.fit(x,y)"
   ]
  },
  {
   "cell_type": "code",
   "execution_count": 66,
   "id": "2463f106",
   "metadata": {},
   "outputs": [],
   "source": [
    "y_pred = reg.predict(x)"
   ]
  },
  {
   "cell_type": "code",
   "execution_count": 67,
   "id": "0550e8a2",
   "metadata": {},
   "outputs": [
    {
     "name": "stdout",
     "output_type": "stream",
     "text": [
      "Coefficient of determination:  0.06445754026008121\n"
     ]
    }
   ],
   "source": [
    "r_sq = reg.score(x, y)\n",
    "print('Coefficient of determination: ', r_sq)"
   ]
  },
  {
   "cell_type": "markdown",
   "id": "0aebc621",
   "metadata": {},
   "source": [
    "## Using the Gradient Descent function from the tutorial"
   ]
  },
  {
   "cell_type": "code",
   "execution_count": 70,
   "id": "f1d5cf72",
   "metadata": {},
   "outputs": [],
   "source": [
    "def  cal_cost(theta,X,y):\n",
    "    '''\n",
    "    \n",
    "    Calculates the cost for given X and y. The following shows and example of a single dimensional X\n",
    "    theta = Vector of thetas \n",
    "    X     = Row of X's np.zeros((2,j))\n",
    "    y     = Actual y's np.zeros((2,1))\n",
    "    \n",
    "    where:\n",
    "        j is the no of features\n",
    "    '''\n",
    "    \n",
    "    m = len(y)\n",
    "    \n",
    "    predictions = X.dot(theta)\n",
    "    cost = (1/2*m) * np.sum(np.square(predictions-y))\n",
    "    return cost"
   ]
  },
  {
   "cell_type": "code",
   "execution_count": 74,
   "id": "0b5be289",
   "metadata": {},
   "outputs": [],
   "source": [
    "def gradient_descent(X,y,theta,learning_rate=0.01,iterations=100):\n",
    "    '''\n",
    "    X    = Matrix of X with added bias units\n",
    "    y    = Vector of Y\n",
    "    theta=Vector of thetas np.random.randn(j,1)\n",
    "    learning_rate \n",
    "    iterations = no of iterations\n",
    "    \n",
    "    Returns the final theta vector and array of cost history over no of iterations\n",
    "    '''\n",
    "    m = len(y)\n",
    "    cost_history = np.zeros(iterations)\n",
    "    theta_history = np.zeros((iterations,3))\n",
    "    for it in range(iterations):\n",
    "        \n",
    "        prediction = np.dot(X,theta)\n",
    "        \n",
    "        theta = theta -(1/m)*learning_rate*( X.T.dot((prediction - y)))\n",
    "        theta_history[it,:] =theta.T\n",
    "        cost_history[it]  = cal_cost(theta,X,y)\n",
    "        \n",
    "    return theta, cost_history, theta_history"
   ]
  },
  {
   "cell_type": "code",
   "execution_count": 98,
   "id": "02c33b2e",
   "metadata": {},
   "outputs": [
    {
     "name": "stdout",
     "output_type": "stream",
     "text": [
      "Intercept:          80.659,\n",
      "Slope for EN values:          2.532,\n",
      "Slope for Density values:         -6.298\n",
      "Final cost/MSE:  23911975.750\n"
     ]
    }
   ],
   "source": [
    "lr =0.01\n",
    "n_iter = 1000\n",
    "\n",
    "theta = np.random.randn(3,1)\n",
    "\n",
    "X_b = np.c_[np.ones((len(x),1)),x]\n",
    "theta,cost_history,theta_history = gradient_descent(X_b,y,theta,lr,n_iter)\n",
    "\n",
    "\n",
    "print('Intercept:          {:0.3f},\\nSlope for EN values:          {:0.3f},\\nSlope for Density values:         {:0.3f}'.format(theta[0][0],theta[1][0],theta[2][0]))\n",
    "print('Final cost/MSE:  {:0.3f}'.format(cost_history[-1]))"
   ]
  },
  {
   "cell_type": "code",
   "execution_count": 99,
   "id": "75cfd660",
   "metadata": {},
   "outputs": [
    {
     "data": {
      "image/png": "[encoded data removed]",
      "text/plain": [
       "<Figure size 864x576 with 1 Axes>"
      ]
     },
     "metadata": {
      "needs_background": "light"
     },
     "output_type": "display_data"
    }
   ],
   "source": [
    "fig,ax = plt.subplots(figsize=(12,8))\n",
    "\n",
    "ax.set_ylabel('J(Theta)')\n",
    "ax.set_xlabel('Iterations')\n",
    "_=ax.plot(range(n_iter),cost_history,'b.')"
   ]
  },
  {
   "cell_type": "markdown",
   "id": "40aee475",
   "metadata": {},
   "source": [
    "It can be seen that after around 500 iterations, the loss is converged and no further optimisation occurs after that. "
   ]
  }
 ],
 "metadata": {
  "kernelspec": {
   "display_name": "Python 3 (ipykernel)",
   "language": "python",
   "name": "python3"
  },
  "language_info": {
   "codemirror_mode": {
    "name": "ipython",
    "version": 3
   },
   "file_extension": ".py",
   "mimetype": "text/x-python",
   "name": "python",
   "nbconvert_exporter": "python",
   "pygments_lexer": "ipython3",
   "version": "3.8.11"
  }
 },
 "nbformat": 4,
 "nbformat_minor": 5
}
