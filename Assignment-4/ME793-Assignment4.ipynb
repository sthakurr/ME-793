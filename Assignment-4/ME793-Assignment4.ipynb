{
 "cells": [
  {
   "cell_type": "code",
   "execution_count": 1,
   "id": "e9a7dbed",
   "metadata": {},
   "outputs": [],
   "source": [
    "import numpy as np\n",
    "import pandas as pd"
   ]
  },
  {
   "cell_type": "code",
   "execution_count": 2,
   "id": "798850a9",
   "metadata": {},
   "outputs": [
    {
     "data": {
      "text/html": [
       "<div>\n",
       "<style scoped>\n",
       "    .dataframe tbody tr th:only-of-type {\n",
       "        vertical-align: middle;\n",
       "    }\n",
       "\n",
       "    .dataframe tbody tr th {\n",
       "        vertical-align: top;\n",
       "    }\n",
       "\n",
       "    .dataframe thead th {\n",
       "        text-align: right;\n",
       "    }\n",
       "</style>\n",
       "<table border=\"1\" class=\"dataframe\">\n",
       "  <thead>\n",
       "    <tr style=\"text-align: right;\">\n",
       "      <th></th>\n",
       "      <th>Symbol</th>\n",
       "      <th>Atomic Number</th>\n",
       "      <th>Electronegativity</th>\n",
       "      <th>Atomic Radii (pm)</th>\n",
       "      <th>Thermal Conductivity</th>\n",
       "      <th>Density</th>\n",
       "      <th>Crystal System</th>\n",
       "    </tr>\n",
       "  </thead>\n",
       "  <tbody>\n",
       "    <tr>\n",
       "      <th>0</th>\n",
       "      <td>H</td>\n",
       "      <td>1</td>\n",
       "      <td>2.20</td>\n",
       "      <td>53.0</td>\n",
       "      <td>0.1805</td>\n",
       "      <td>0.000090</td>\n",
       "      <td>Simple Hexagonal</td>\n",
       "    </tr>\n",
       "    <tr>\n",
       "      <th>1</th>\n",
       "      <td>He</td>\n",
       "      <td>2</td>\n",
       "      <td>NaN</td>\n",
       "      <td>31.0</td>\n",
       "      <td>0.1513</td>\n",
       "      <td>0.000179</td>\n",
       "      <td>Face Centered Cubic</td>\n",
       "    </tr>\n",
       "    <tr>\n",
       "      <th>2</th>\n",
       "      <td>Li</td>\n",
       "      <td>3</td>\n",
       "      <td>0.98</td>\n",
       "      <td>167.0</td>\n",
       "      <td>85.0000</td>\n",
       "      <td>0.534000</td>\n",
       "      <td>Body Centered Cubic</td>\n",
       "    </tr>\n",
       "    <tr>\n",
       "      <th>3</th>\n",
       "      <td>Be</td>\n",
       "      <td>4</td>\n",
       "      <td>1.57</td>\n",
       "      <td>112.0</td>\n",
       "      <td>190.0000</td>\n",
       "      <td>1.850000</td>\n",
       "      <td>Simple Hexagonal</td>\n",
       "    </tr>\n",
       "    <tr>\n",
       "      <th>4</th>\n",
       "      <td>B</td>\n",
       "      <td>5</td>\n",
       "      <td>2.04</td>\n",
       "      <td>87.0</td>\n",
       "      <td>27.0000</td>\n",
       "      <td>2.340000</td>\n",
       "      <td>Simple Trigonal</td>\n",
       "    </tr>\n",
       "  </tbody>\n",
       "</table>\n",
       "</div>"
      ],
      "text/plain": [
       "  Symbol  Atomic Number  Electronegativity  Atomic Radii (pm)  \\\n",
       "0      H              1               2.20               53.0   \n",
       "1     He              2                NaN               31.0   \n",
       "2     Li              3               0.98              167.0   \n",
       "3     Be              4               1.57              112.0   \n",
       "4      B              5               2.04               87.0   \n",
       "\n",
       "   Thermal Conductivity   Density       Crystal System  \n",
       "0                0.1805  0.000090     Simple Hexagonal  \n",
       "1                0.1513  0.000179  Face Centered Cubic  \n",
       "2               85.0000  0.534000  Body Centered Cubic  \n",
       "3              190.0000  1.850000     Simple Hexagonal  \n",
       "4               27.0000  2.340000      Simple Trigonal  "
      ]
     },
     "execution_count": 2,
     "metadata": {},
     "output_type": "execute_result"
    }
   ],
   "source": [
    "data = pd.read_csv('Periodic-table-final.csv')\n",
    "data.head()"
   ]
  },
  {
   "cell_type": "code",
   "execution_count": 5,
   "id": "7874cecc",
   "metadata": {},
   "outputs": [
    {
     "name": "stdout",
     "output_type": "stream",
     "text": [
      "<class 'pandas.core.frame.DataFrame'>\n",
      "RangeIndex: 118 entries, 0 to 117\n",
      "Data columns (total 7 columns):\n",
      " #   Column                Non-Null Count  Dtype  \n",
      "---  ------                --------------  -----  \n",
      " 0   Symbol                118 non-null    object \n",
      " 1   Atomic Number         118 non-null    int64  \n",
      " 2   Electronegativity     96 non-null     float64\n",
      " 3   Atomic Radii (pm)     86 non-null     float64\n",
      " 4   Thermal Conductivity  94 non-null     float64\n",
      " 5   Density               105 non-null    float64\n",
      " 6   Crystal System        113 non-null    object \n",
      "dtypes: float64(4), int64(1), object(2)\n",
      "memory usage: 6.6+ KB\n"
     ]
    }
   ],
   "source": [
    "data.info()"
   ]
  },
  {
   "cell_type": "code",
   "execution_count": null,
   "id": "c5d2f680",
   "metadata": {},
   "outputs": [],
   "source": []
  }
 ],
 "metadata": {
  "kernelspec": {
   "display_name": "Python 3 (ipykernel)",
   "language": "python",
   "name": "python3"
  },
  "language_info": {
   "codemirror_mode": {
    "name": "ipython",
    "version": 3
   },
   "file_extension": ".py",
   "mimetype": "text/x-python",
   "name": "python",
   "nbconvert_exporter": "python",
   "pygments_lexer": "ipython3",
   "version": "3.8.11"
  }
 },
 "nbformat": 4,
 "nbformat_minor": 5
}
