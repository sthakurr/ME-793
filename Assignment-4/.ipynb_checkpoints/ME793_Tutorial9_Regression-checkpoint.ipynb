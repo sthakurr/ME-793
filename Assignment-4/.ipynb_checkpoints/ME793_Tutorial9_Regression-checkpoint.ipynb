{
 "cells": [
  {
   "cell_type": "markdown",
   "metadata": {},
   "source": [
    "# Linear Regression, Multilinear Regression, Polynomial Regression\n",
    "\n",
    "Source: web"
   ]
  },
  {
   "cell_type": "markdown",
   "metadata": {},
   "source": [
    "# Part 1 - Linear Regression"
   ]
  },
  {
   "cell_type": "markdown",
   "metadata": {},
   "source": [
    "$$f(x)=b_0+w\\times x $$\n",
    "\n",
    "known value is $y$. The residuals can be determined as\n",
    "$$y-f(x)$$"
   ]
  },
  {
   "cell_type": "code",
   "execution_count": 1,
   "metadata": {},
   "outputs": [],
   "source": [
    "import numpy as np\n",
    "from sklearn.linear_model import LinearRegression\n",
    "import matplotlib.pyplot as plt\n",
    "import seaborn as sns"
   ]
  },
  {
   "cell_type": "code",
   "execution_count": 2,
   "metadata": {},
   "outputs": [],
   "source": [
    "#import sys"
   ]
  },
  {
   "cell_type": "code",
   "execution_count": 3,
   "metadata": {},
   "outputs": [],
   "source": [
    "#sys.path"
   ]
  },
  {
   "cell_type": "code",
   "execution_count": 2,
   "metadata": {},
   "outputs": [],
   "source": [
    "x = np.array([1, 7, 9, 12, 5, 10]).reshape((-1, 1)) # reshape in such a way that there is only one column\n",
    "# but number of rows are as required to be comparible with the data. Since it is already a vector, it does not matter.\n",
    "# this function is very useful when you want to vectorize a matrix.\n",
    "y = np.array([2, 5, 7, 11, 15, 20])"
   ]
  },
  {
   "cell_type": "code",
   "execution_count": 5,
   "metadata": {
    "scrolled": true
   },
   "outputs": [
    {
     "name": "stdout",
     "output_type": "stream",
     "text": [
      "[[ 1]\n",
      " [ 7]\n",
      " [ 9]\n",
      " [12]\n",
      " [ 5]\n",
      " [10]]\n"
     ]
    }
   ],
   "source": [
    "print(x)"
   ]
  },
  {
   "cell_type": "code",
   "execution_count": 3,
   "metadata": {},
   "outputs": [
    {
     "name": "stdout",
     "output_type": "stream",
     "text": [
      "[[ 1  3  7  6  9]\n",
      " [ 2 12  3  5 10]]\n"
     ]
    }
   ],
   "source": [
    "x = np.array([[1,3],[7, 6],[9,2],[12,3],[5, 10]]).reshape((-1, 5))\n",
    "print(x)"
   ]
  },
  {
   "cell_type": "code",
   "execution_count": 7,
   "metadata": {},
   "outputs": [
    {
     "name": "stdout",
     "output_type": "stream",
     "text": [
      "[ 2  5  7 11 15 20]\n"
     ]
    }
   ],
   "source": [
    "print(y)\n",
    "# 4.51293103  9.7112069  11.44396552 14.04310345  7.97844828 12.31034483 These are predicted values."
   ]
  },
  {
   "cell_type": "code",
   "execution_count": 8,
   "metadata": {},
   "outputs": [],
   "source": [
    "model = LinearRegression().fit(x, y) # the earlier two statements are not needed now."
   ]
  },
  {
   "cell_type": "code",
   "execution_count": 9,
   "metadata": {},
   "outputs": [
    {
     "name": "stdout",
     "output_type": "stream",
     "text": [
      "Coefficient of determination: 0.25914024014778314\n"
     ]
    }
   ],
   "source": [
    "r_sq = model.score(x, y)\n",
    "print('Coefficient of determination:', r_sq)"
   ]
  },
  {
   "cell_type": "markdown",
   "metadata": {},
   "source": [
    "### The coefficient of determination $R^2$ is defined as $(1 − \\frac{u}{v})$, where $u$ is the residual sum of squares $((y_{true} - y_{pred})^2).sum()$ and v is the total sum of squares $((y_{true} - y_{true.mean()})^2).sum()$. The best possible score is 1.0 and it can be negative (because the model can be arbitrarily worse).\n",
    "Ref. \\url{https://scikit-learn.org/stable/modules/generated/sklearn.linear_model.LinearRegression.html#sklearn.linear_model.LinearRegression.score}"
   ]
  },
  {
   "cell_type": "code",
   "execution_count": 10,
   "metadata": {},
   "outputs": [
    {
     "name": "stdout",
     "output_type": "stream",
     "text": [
      "intercept: 3.6465517241379306\n"
     ]
    }
   ],
   "source": [
    "print('intercept:', model.intercept_) # value of b"
   ]
  },
  {
   "cell_type": "code",
   "execution_count": 11,
   "metadata": {},
   "outputs": [
    {
     "name": "stdout",
     "output_type": "stream",
     "text": [
      "slope: [0.86637931]\n"
     ]
    }
   ],
   "source": [
    "print('slope:', model.coef_) # value of w"
   ]
  },
  {
   "cell_type": "code",
   "execution_count": 12,
   "metadata": {},
   "outputs": [
    {
     "name": "stdout",
     "output_type": "stream",
     "text": [
      "intercept: [3.64655172]\n"
     ]
    }
   ],
   "source": [
    "new_model = LinearRegression().fit(x, y.reshape((-1, 1))) # this will affect since Y data is a vector only.\n",
    "print('intercept:', new_model.intercept_)"
   ]
  },
  {
   "cell_type": "code",
   "execution_count": 13,
   "metadata": {},
   "outputs": [
    {
     "name": "stdout",
     "output_type": "stream",
     "text": [
      "slope: [[0.86637931]]\n"
     ]
    }
   ],
   "source": [
    "print('slope:', new_model.coef_)"
   ]
  },
  {
   "cell_type": "code",
   "execution_count": 14,
   "metadata": {},
   "outputs": [],
   "source": [
    "y_pred = model.predict(x)"
   ]
  },
  {
   "cell_type": "code",
   "execution_count": 15,
   "metadata": {},
   "outputs": [
    {
     "name": "stdout",
     "output_type": "stream",
     "text": [
      "predicted response:\n",
      "[ 4.51293103  9.7112069  11.44396552 14.04310345  7.97844828 12.31034483]\n"
     ]
    }
   ],
   "source": [
    "print('predicted response:', y_pred, sep='\\n')"
   ]
  },
  {
   "cell_type": "code",
   "execution_count": 16,
   "metadata": {},
   "outputs": [],
   "source": [
    "y_pred = model.intercept_ + model.coef_ * x"
   ]
  },
  {
   "cell_type": "code",
   "execution_count": 17,
   "metadata": {
    "scrolled": true
   },
   "outputs": [
    {
     "name": "stdout",
     "output_type": "stream",
     "text": [
      "predicted response:\n",
      "[[ 4.51293103]\n",
      " [ 9.7112069 ]\n",
      " [11.44396552]\n",
      " [14.04310345]\n",
      " [ 7.97844828]\n",
      " [12.31034483]]\n"
     ]
    }
   ],
   "source": [
    "print('predicted response:', y_pred, sep='\\n')"
   ]
  },
  {
   "cell_type": "code",
   "execution_count": 18,
   "metadata": {},
   "outputs": [
    {
     "data": {
      "image/png": "[encoded data removed]",
      "text/plain": [
       "<Figure size 432x288 with 1 Axes>"
      ]
     },
     "metadata": {
      "needs_background": "light"
     },
     "output_type": "display_data"
    }
   ],
   "source": [
    "plt.plot(x,y_pred)\n",
    "plt.xlabel(\"X\",fontsize=20)\n",
    "plt.ylabel(\"Y\",fontsize=20)\n",
    "plt.scatter(x,y,color='red')\n",
    "plt.xticks(fontsize=20)\n",
    "plt.yticks(fontsize=20)\n",
    "#plt.scatter(x,y+dy)\n",
    "plt.vlines(x,y,y_pred)\n",
    "plt.show()"
   ]
  },
  {
   "cell_type": "markdown",
   "metadata": {},
   "source": [
    "# Part 2 - Multilinear regression / Multivariate Linear regression"
   ]
  },
  {
   "cell_type": "code",
   "execution_count": 19,
   "metadata": {},
   "outputs": [],
   "source": [
    "import numpy as np\n",
    "from sklearn.linear_model import LinearRegression\n",
    "\n",
    "x = [[0, 1], [4, 2], [12, 3], [23, 4], [31, 10], [44, 14], [53, 32], [58, 31]]\n",
    "y = [3, 4, 17, 12, 30, 21, 35, 41]\n",
    "x, y = np.array(x), np.array(y)"
   ]
  },
  {
   "cell_type": "code",
   "execution_count": 20,
   "metadata": {},
   "outputs": [
    {
     "name": "stdout",
     "output_type": "stream",
     "text": [
      "[[ 0  1]\n",
      " [ 4  2]\n",
      " [12  3]\n",
      " [23  4]\n",
      " [31 10]\n",
      " [44 14]\n",
      " [53 32]\n",
      " [58 31]]\n"
     ]
    }
   ],
   "source": [
    "print(x)"
   ]
  },
  {
   "cell_type": "code",
   "execution_count": 21,
   "metadata": {},
   "outputs": [
    {
     "name": "stdout",
     "output_type": "stream",
     "text": [
      "[ 3  4 17 12 30 21 35 41]\n"
     ]
    }
   ],
   "source": [
    "print(y)\n",
    "# 5.28068114  7.23286623 10.80306423 15.58677191 20.82783087 27.42306157 37.07869005 38.76703399 # these are predicted values"
   ]
  },
  {
   "cell_type": "code",
   "execution_count": 22,
   "metadata": {},
   "outputs": [],
   "source": [
    "model = LinearRegression().fit(x, y)"
   ]
  },
  {
   "cell_type": "code",
   "execution_count": 23,
   "metadata": {},
   "outputs": [
    {
     "name": "stdout",
     "output_type": "stream",
     "text": [
      "coefficient of determination: 0.8543138851027825\n",
      "intercept: 4.94650894658654\n",
      "slope: [0.40450323 0.33417219]\n"
     ]
    }
   ],
   "source": [
    "r_sq = model.score(x, y)\n",
    "print('coefficient of determination:', r_sq)\n",
    "print('intercept:', model.intercept_)\n",
    "print('slope:', model.coef_)"
   ]
  },
  {
   "cell_type": "code",
   "execution_count": 24,
   "metadata": {},
   "outputs": [
    {
     "name": "stdout",
     "output_type": "stream",
     "text": [
      "predicted response:\n",
      "[ 5.28068114  7.23286623 10.80306423 15.58677191 20.82783087 27.42306157\n",
      " 37.07869005 38.76703399]\n"
     ]
    }
   ],
   "source": [
    "y_pred = model.predict(x)\n",
    "print('predicted response:', y_pred, sep='\\n')"
   ]
  },
  {
   "cell_type": "code",
   "execution_count": 25,
   "metadata": {
    "scrolled": true
   },
   "outputs": [
    {
     "name": "stdout",
     "output_type": "stream",
     "text": [
      "[[ 0  1]\n",
      " [ 4  2]\n",
      " [12  3]\n",
      " [23  4]\n",
      " [31 10]\n",
      " [44 14]\n",
      " [53 32]\n",
      " [58 31]]\n",
      "[ 5.28068114  7.23286623 10.80306423 15.58677191 20.82783087 27.42306157\n",
      " 37.07869005 38.76703399]\n"
     ]
    }
   ],
   "source": [
    "#x_new = np.arange(16).reshape((-1, 2))\n",
    "print(x)\n",
    "print(y_pred)"
   ]
  },
  {
   "cell_type": "code",
   "execution_count": 26,
   "metadata": {
    "scrolled": true
   },
   "outputs": [
    {
     "data": {
      "image/png": "[encoded data removed]",
      "text/plain": [
       "<Figure size 432x288 with 1 Axes>"
      ]
     },
     "metadata": {
      "needs_background": "light"
     },
     "output_type": "display_data"
    }
   ],
   "source": [
    "plt.plot(x[:,0],y_pred)\n",
    "plt.xlabel(\"X\",fontsize=20)\n",
    "plt.ylabel(\"Y\",fontsize=20)\n",
    "plt.scatter(x[:,0],y,color='red')\n",
    "plt.xticks(fontsize=20)\n",
    "plt.yticks(fontsize=20)\n",
    "plt.vlines(x[:,0],y,y_pred)\n",
    "plt.show()"
   ]
  },
  {
   "cell_type": "code",
   "execution_count": 27,
   "metadata": {},
   "outputs": [
    {
     "data": {
      "image/png": "[encoded data removed]",
      "text/plain": [
       "<Figure size 432x288 with 1 Axes>"
      ]
     },
     "metadata": {
      "needs_background": "light"
     },
     "output_type": "display_data"
    }
   ],
   "source": [
    "plt.plot(x[:,1],y_pred)\n",
    "plt.xlabel(\"X\",fontsize=20)\n",
    "plt.ylabel(\"Y\",fontsize=20)\n",
    "plt.scatter(x[:,1],y,color='red')\n",
    "plt.xticks(fontsize=20)\n",
    "plt.yticks(fontsize=20)\n",
    "plt.vlines(x[:,1],y,y_pred)\n",
    "plt.show()"
   ]
  },
  {
   "cell_type": "code",
   "execution_count": 28,
   "metadata": {
    "scrolled": true
   },
   "outputs": [
    {
     "name": "stdout",
     "output_type": "stream",
     "text": [
      "[[0 1]\n",
      " [2 3]\n",
      " [4 5]\n",
      " [6 7]\n",
      " [8 9]]\n",
      "[ 5.28068114  6.75803197  8.23538281  9.71273364 11.19008448]\n"
     ]
    }
   ],
   "source": [
    "x_new = np.arange(10).reshape((-1, 2))\n",
    "print(x_new)\n",
    "y_new = model.predict(x_new)\n",
    "print(y_new)"
   ]
  },
  {
   "cell_type": "code",
   "execution_count": 29,
   "metadata": {},
   "outputs": [
    {
     "data": {
      "text/plain": [
       "(array([ 4.,  5.,  6.,  7.,  8.,  9., 10., 11., 12.]),\n",
       " [Text(0, 0, ''),\n",
       "  Text(0, 0, ''),\n",
       "  Text(0, 0, ''),\n",
       "  Text(0, 0, ''),\n",
       "  Text(0, 0, ''),\n",
       "  Text(0, 0, ''),\n",
       "  Text(0, 0, ''),\n",
       "  Text(0, 0, ''),\n",
       "  Text(0, 0, '')])"
      ]
     },
     "execution_count": 29,
     "metadata": {},
     "output_type": "execute_result"
    },
    {
     "data": {
      "image/png": "[encoded data removed]",
      "text/plain": [
       "<Figure size 432x288 with 1 Axes>"
      ]
     },
     "metadata": {
      "needs_background": "light"
     },
     "output_type": "display_data"
    }
   ],
   "source": [
    "plt.plot(x_new[:,0],y_new)\n",
    "plt.xlabel(\"X\",fontsize=20)\n",
    "plt.ylabel(\"Y\",fontsize=20)\n",
    "plt.scatter(x_new[:,0],y_new,color='red')\n",
    "plt.xticks(fontsize=20)\n",
    "plt.yticks(fontsize=20)\n",
    "#plt.vlines(x_new[:,0],y_new)\n",
    "#plt.show()"
   ]
  },
  {
   "cell_type": "markdown",
   "metadata": {},
   "source": [
    "# Part 3 - Polynomial Regression\n",
    "For this, we need to first convert the variable x to a nonlinear form e.g. $x^2$ and and then do a linear regression against known values of y\n",
    "$f(x) = b + w_1 \\times x + w_2 \\times x^2 + w_3 \\times x^3$"
   ]
  },
  {
   "cell_type": "code",
   "execution_count": 39,
   "metadata": {},
   "outputs": [],
   "source": [
    "import numpy as np\n",
    "from sklearn.linear_model import LinearRegression\n",
    "from sklearn.preprocessing import PolynomialFeatures"
   ]
  },
  {
   "cell_type": "code",
   "execution_count": 40,
   "metadata": {},
   "outputs": [],
   "source": [
    "x = np.array([2, 12, 22, 33, 46, 65]).reshape((-1, 1))\n",
    "y = np.array([7, 9, 10, 18, 26, 31])\n",
    "#  6.99999983  8.99999984  9.99999988 17.99999991 26.00000011 31.00000043"
   ]
  },
  {
   "cell_type": "code",
   "execution_count": 51,
   "metadata": {},
   "outputs": [],
   "source": [
    "#transformer = PolynomialFeatures(degree=3, include_bias=False)\n",
    "# include_bias=True is default. It will make all the powers of polynomial terms to be zero.\n",
    "# We do not need currently."
   ]
  },
  {
   "cell_type": "code",
   "execution_count": 53,
   "metadata": {},
   "outputs": [],
   "source": [
    "#transformer.fit(x) # this defines a transformer that can create a set of x, x^2, x^3, x^4, x^5, x^6 for our case.\n",
    "#x_1, x_1^2, x_1^3, x_1^4, x_^1, x_1^6\n",
    "#x_2, x_2^2, x_2^3, x_2^4, x_2^5, x_2^6\n",
    "#.\n",
    "#.\n",
    "#.\n",
    "#x_6, x_6^2, x_6^3, x_6^4, x_6^5, x_6^6"
   ]
  },
  {
   "cell_type": "code",
   "execution_count": 54,
   "metadata": {},
   "outputs": [],
   "source": [
    "#x_ = transformer.transform(x) # here we actually create the above set and store in x_\n",
    "# transfomer is like a model which defines that x will be transformed into 6 dimensions in this case.\n",
    "# Using transform function we are really converting the data."
   ]
  },
  {
   "cell_type": "code",
   "execution_count": 56,
   "metadata": {},
   "outputs": [
    {
     "name": "stdout",
     "output_type": "stream",
     "text": [
      "[[2.00000e+00 4.00000e+00 8.00000e+00]\n",
      " [1.20000e+01 1.44000e+02 1.72800e+03]\n",
      " [2.20000e+01 4.84000e+02 1.06480e+04]\n",
      " [3.30000e+01 1.08900e+03 3.59370e+04]\n",
      " [4.60000e+01 2.11600e+03 9.73360e+04]\n",
      " [6.50000e+01 4.22500e+03 2.74625e+05]]\n"
     ]
    }
   ],
   "source": [
    "#print(x_)\n",
    "#x = np.array([2, 12, 22, 33, 46, 65])"
   ]
  },
  {
   "cell_type": "code",
   "execution_count": 67,
   "metadata": {},
   "outputs": [],
   "source": [
    "x_ = PolynomialFeatures(degree=3, include_bias=False).fit_transform(x)\n",
    "# x_ = transformer.fit_transform(x)"
   ]
  },
  {
   "cell_type": "code",
   "execution_count": 68,
   "metadata": {
    "scrolled": true
   },
   "outputs": [
    {
     "name": "stdout",
     "output_type": "stream",
     "text": [
      "[[2.00000e+00 4.00000e+00 8.00000e+00]\n",
      " [1.20000e+01 1.44000e+02 1.72800e+03]\n",
      " [2.20000e+01 4.84000e+02 1.06480e+04]\n",
      " [3.30000e+01 1.08900e+03 3.59370e+04]\n",
      " [4.60000e+01 2.11600e+03 9.73360e+04]\n",
      " [6.50000e+01 4.22500e+03 2.74625e+05]]\n"
     ]
    }
   ],
   "source": [
    "print(x_)"
   ]
  },
  {
   "cell_type": "code",
   "execution_count": 69,
   "metadata": {},
   "outputs": [],
   "source": [
    "model = LinearRegression().fit(x_, y)"
   ]
  },
  {
   "cell_type": "code",
   "execution_count": 70,
   "metadata": {},
   "outputs": [
    {
     "name": "stdout",
     "output_type": "stream",
     "text": [
      "coefficient of determination: 0.9915591396208587\n",
      "intercept: 7.986514007227761\n",
      "coefficients: [-3.26178050e-01  2.75733242e-02 -2.62926261e-04]\n"
     ]
    }
   ],
   "source": [
    "r_sq = model.score(x_, y)\n",
    "print('coefficient of determination:', r_sq)\n",
    "print('intercept:', model.intercept_)\n",
    "print('coefficients:', model.coef_)"
   ]
  },
  {
   "cell_type": "code",
   "execution_count": 71,
   "metadata": {},
   "outputs": [
    {
     "name": "stdout",
     "output_type": "stream",
     "text": [
      "predicted response:\n",
      "[ 7.44234779  7.58859952 11.35644701 17.80120739 25.7352872  31.07611109]\n"
     ]
    }
   ],
   "source": [
    "y_pred = model.predict(x_)\n",
    "print('predicted response:', y_pred, sep='\\n')"
   ]
  },
  {
   "cell_type": "code",
   "execution_count": 62,
   "metadata": {},
   "outputs": [
    {
     "data": {
      "image/png": "[encoded data removed]",
      "text/plain": [
       "<Figure size 432x288 with 1 Axes>"
      ]
     },
     "metadata": {
      "needs_background": "light"
     },
     "output_type": "display_data"
    }
   ],
   "source": [
    "plt.scatter(x,y)\n",
    "plt.plot(x,y_pred)\n",
    "plt.xlabel(\"X\",fontsize=20)\n",
    "plt.ylabel(\"Y\",fontsize=20)\n",
    "plt.scatter(x,y,color='red')\n",
    "plt.xticks(fontsize=20)\n",
    "plt.yticks(fontsize=20)\n",
    "#plt.vlines(x_new[:,0],y_new) # No vertical lines needed in this case since the fit is passing through all the points.\n",
    "plt.show()"
   ]
  },
  {
   "cell_type": "code",
   "execution_count": null,
   "metadata": {},
   "outputs": [],
   "source": []
  }
 ],
 "metadata": {
  "kernelspec": {
   "display_name": "Python 3 (ipykernel)",
   "language": "python",
   "name": "python3"
  },
  "language_info": {
   "codemirror_mode": {
    "name": "ipython",
    "version": 3
   },
   "file_extension": ".py",
   "mimetype": "text/x-python",
   "name": "python",
   "nbconvert_exporter": "python",
   "pygments_lexer": "ipython3",
   "version": "3.8.11"
  }
 },
 "nbformat": 4,
 "nbformat_minor": 2
}
