{
 "cells": [
  {
   "cell_type": "markdown",
   "id": "b70b5bd7",
   "metadata": {},
   "source": [
    "# ME-793 Assignment 2: PCA"
   ]
  },
  {
   "cell_type": "code",
   "execution_count": 1,
   "id": "fc1d915a",
   "metadata": {},
   "outputs": [],
   "source": [
    "import numpy as np\n",
    "import pandas as pd"
   ]
  },
  {
   "cell_type": "code",
   "execution_count": 2,
   "id": "d58742c5",
   "metadata": {},
   "outputs": [
    {
     "data": {
      "text/html": [
       "<div>\n",
       "<style scoped>\n",
       "    .dataframe tbody tr th:only-of-type {\n",
       "        vertical-align: middle;\n",
       "    }\n",
       "\n",
       "    .dataframe tbody tr th {\n",
       "        vertical-align: top;\n",
       "    }\n",
       "\n",
       "    .dataframe thead th {\n",
       "        text-align: right;\n",
       "    }\n",
       "</style>\n",
       "<table border=\"1\" class=\"dataframe\">\n",
       "  <thead>\n",
       "    <tr style=\"text-align: right;\">\n",
       "      <th></th>\n",
       "      <th>length</th>\n",
       "      <th>width</th>\n",
       "      <th>thickness</th>\n",
       "    </tr>\n",
       "  </thead>\n",
       "  <tbody>\n",
       "    <tr>\n",
       "      <th>0</th>\n",
       "      <td>7</td>\n",
       "      <td>4</td>\n",
       "      <td>3</td>\n",
       "    </tr>\n",
       "    <tr>\n",
       "      <th>1</th>\n",
       "      <td>4</td>\n",
       "      <td>1</td>\n",
       "      <td>8</td>\n",
       "    </tr>\n",
       "    <tr>\n",
       "      <th>2</th>\n",
       "      <td>6</td>\n",
       "      <td>3</td>\n",
       "      <td>5</td>\n",
       "    </tr>\n",
       "    <tr>\n",
       "      <th>3</th>\n",
       "      <td>8</td>\n",
       "      <td>6</td>\n",
       "      <td>1</td>\n",
       "    </tr>\n",
       "    <tr>\n",
       "      <th>4</th>\n",
       "      <td>8</td>\n",
       "      <td>5</td>\n",
       "      <td>7</td>\n",
       "    </tr>\n",
       "  </tbody>\n",
       "</table>\n",
       "</div>"
      ],
      "text/plain": [
       "   length  width  thickness\n",
       "0       7      4          3\n",
       "1       4      1          8\n",
       "2       6      3          5\n",
       "3       8      6          1\n",
       "4       8      5          7"
      ]
     },
     "execution_count": 2,
     "metadata": {},
     "output_type": "execute_result"
    }
   ],
   "source": [
    "data = pd.read_csv(\"data.csv\", delimiter=\",\")\n",
    "data_arr = data.values # converting data into a numpy array\n",
    "data.head()"
   ]
  },
  {
   "cell_type": "markdown",
   "id": "16285ef6",
   "metadata": {},
   "source": [
    "(a) Write a function for determining PCs of the above dataset X. Standardize your data i.e. use zero mean and normalized data using the ”Standardize” function shown in Tutorial."
   ]
  },
  {
   "cell_type": "code",
   "execution_count": 3,
   "id": "aff231c8",
   "metadata": {},
   "outputs": [],
   "source": [
    "def standardize(X):\n",
    "    mu = sum(X)/len(X)\n",
    "    var = sum((X-mu)**2)/len(X)\n",
    "    z = (X-mu)/var**0.5\n",
    "    return z"
   ]
  },
  {
   "cell_type": "code",
   "execution_count": 4,
   "id": "610e87c0",
   "metadata": {},
   "outputs": [],
   "source": [
    "def pca(data):\n",
    "    data_norm = standardize(data)\n",
    "    A = np.dot(data_norm.transpose(), data_norm) / (data_norm.shape[0]-1)\n",
    "    w,v = np.linalg.eig(A)\n",
    "    proj_data = np.dot(data_norm, v)\n",
    "    return v.transpose(), proj_data, w"
   ]
  },
  {
   "cell_type": "code",
   "execution_count": 5,
   "id": "afe90092",
   "metadata": {},
   "outputs": [],
   "source": [
    "P, proj_data, eigvals = pca(data_arr)"
   ]
  },
  {
   "cell_type": "markdown",
   "id": "a1834121",
   "metadata": {},
   "source": [
    "(b) Show the principal vectors i.e. matrix P."
   ]
  },
  {
   "cell_type": "code",
   "execution_count": 6,
   "id": "5bfe0150",
   "metadata": {},
   "outputs": [
    {
     "name": "stdout",
     "output_type": "stream",
     "text": [
      "(3, 3)\n",
      "Principal vector matrix:  [[-0.64200458 -0.68636164  0.34166917]\n",
      " [-0.66321742  0.72074503  0.20166619]\n",
      " [ 0.38467229  0.09713033  0.91792861]]\n"
     ]
    }
   ],
   "source": [
    "print(P.shape)\n",
    "print(\"Principal vector matrix: \", P)"
   ]
  },
  {
   "cell_type": "code",
   "execution_count": 7,
   "id": "8488429b",
   "metadata": {},
   "outputs": [
    {
     "name": "stdout",
     "output_type": "stream",
     "text": [
      "3\n",
      "Eigenvalues:  [1.9653046  0.33794439 1.03008435]\n"
     ]
    }
   ],
   "source": [
    "print(len(eigvals))\n",
    "print(\"Eigenvalues: \", eigvals)"
   ]
  },
  {
   "cell_type": "markdown",
   "id": "9b12c569",
   "metadata": {},
   "source": [
    "(c) Show the transformed data Y."
   ]
  },
  {
   "cell_type": "code",
   "execution_count": 8,
   "id": "20d44186",
   "metadata": {},
   "outputs": [
    {
     "name": "stdout",
     "output_type": "stream",
     "text": [
      "(10, 3)\n",
      "Projected Data:  [[-0.54266035  0.03532425 -0.66495907]\n",
      " [ 2.80389723  0.34879208  0.06620673]\n",
      " [ 0.61563102  0.1650593  -0.30632536]\n",
      " [-2.15852616  0.38608588 -0.95883922]\n",
      " [-0.93105243  0.36001316  1.04481917]\n",
      " [ 1.1423878  -0.47124516  1.27394577]\n",
      " [ 0.80308178  0.47234173 -1.2618794 ]\n",
      " [-1.24681973 -0.0230066   1.65563789]\n",
      " [-0.28602725  0.1867989   0.02451158]\n",
      " [-0.1999119  -1.46016354 -0.87311811]]\n"
     ]
    }
   ],
   "source": [
    "print(proj_data.shape)\n",
    "print(\"Projected Data: \", proj_data)"
   ]
  },
  {
   "cell_type": "code",
   "execution_count": 9,
   "id": "e6b1ec77",
   "metadata": {},
   "outputs": [
    {
     "name": "stdout",
     "output_type": "stream",
     "text": [
      "[[ 1.96530460e+00 -1.03023311e-16 -4.30189222e-17]\n",
      " [-1.03023311e-16  3.37944386e-01  4.64517494e-17]\n",
      " [-4.30189222e-17  4.64517494e-17  1.03008435e+00]]\n"
     ]
    }
   ],
   "source": [
    "print(np.cov(proj_data.T)) # covariance matrix of the projected data is a diagonal matrix!"
   ]
  },
  {
   "cell_type": "markdown",
   "id": "dc546b3d",
   "metadata": {},
   "source": [
    "(d) Determine the variances along the principal directions."
   ]
  },
  {
   "cell_type": "code",
   "execution_count": 10,
   "id": "d53ba1da",
   "metadata": {},
   "outputs": [
    {
     "name": "stdout",
     "output_type": "stream",
     "text": [
      "% Variance explained by PC 1:  0.5895913787011411\n",
      "% Variance explained by PC 2:  0.10138331566589406\n",
      "% Variance explained by PC 3:  0.3090253056329648\n"
     ]
    }
   ],
   "source": [
    "for i, val in enumerate(eigvals):\n",
    "    print(\"% Variance explained by PC {}: \".format(i+1), val/sum(eigvals))"
   ]
  },
  {
   "cell_type": "markdown",
   "id": "27c054ea",
   "metadata": {},
   "source": [
    "(e) Determine the principal axes using Scikit learn and compare with your solution. Does your solution compare well with that from the python library functions ? Why or why not ?"
   ]
  },
  {
   "cell_type": "code",
   "execution_count": 11,
   "id": "7b465d51",
   "metadata": {},
   "outputs": [],
   "source": [
    "from sklearn.decomposition import PCA\n",
    "\n",
    "pca_sk = PCA(n_components = 3)"
   ]
  },
  {
   "cell_type": "code",
   "execution_count": 12,
   "id": "f945021b",
   "metadata": {},
   "outputs": [
    {
     "data": {
      "text/plain": [
       "PCA(n_components=3)"
      ]
     },
     "execution_count": 12,
     "metadata": {},
     "output_type": "execute_result"
    }
   ],
   "source": [
    "data_norm = standardize(data_arr)\n",
    "pca_sk.fit(data_norm)"
   ]
  },
  {
   "cell_type": "code",
   "execution_count": 13,
   "id": "8a1f9008",
   "metadata": {},
   "outputs": [
    {
     "name": "stdout",
     "output_type": "stream",
     "text": [
      "[[-0.64200458 -0.68636164  0.34166917]\n",
      " [ 0.38467229  0.09713033  0.91792861]\n",
      " [ 0.66321742 -0.72074503 -0.20166619]]\n"
     ]
    }
   ],
   "source": [
    "print(pca_sk.components_) # the eigenvectors (P matrix) calculated"
   ]
  },
  {
   "cell_type": "code",
   "execution_count": 14,
   "id": "bd7c3078",
   "metadata": {},
   "outputs": [
    {
     "name": "stdout",
     "output_type": "stream",
     "text": [
      "Singular values obtained from sklearn:  [4.20567966 3.04479214 1.74398953]\n"
     ]
    }
   ],
   "source": [
    "print(\"Singular values obtained from sklearn: \", pca_sk.singular_values_)"
   ]
  },
  {
   "cell_type": "code",
   "execution_count": 15,
   "id": "420a74ee",
   "metadata": {},
   "outputs": [
    {
     "name": "stdout",
     "output_type": "stream",
     "text": [
      "Eigenvalues calculated from sklearn:  [1.9653045956704716, 1.0300843521098824, 0.3379443855529801]\n"
     ]
    }
   ],
   "source": [
    "cov_matrix = np.matmul(data_norm.transpose(), data_norm) / (data_norm.shape[0]-1)\n",
    "eigvals_ = []\n",
    "for eigenvector in pca_sk.components_:\n",
    "    eigvals_.append(np.dot(eigenvector.T, np.dot(cov_matrix, eigenvector)))\n",
    "print(\"Eigenvalues calculated from sklearn: \", eigvals_)"
   ]
  },
  {
   "cell_type": "code",
   "execution_count": 16,
   "id": "fa5c8b99",
   "metadata": {},
   "outputs": [
    {
     "name": "stdout",
     "output_type": "stream",
     "text": [
      "[0.58959138 0.30902531 0.10138332]\n"
     ]
    }
   ],
   "source": [
    "print(pca_sk.explained_variance_ratio_)"
   ]
  },
  {
   "cell_type": "code",
   "execution_count": 17,
   "id": "8d9aea73",
   "metadata": {},
   "outputs": [
    {
     "name": "stdout",
     "output_type": "stream",
     "text": [
      "(10, 3)\n",
      "[[-0.54266035 -0.66495907 -0.03532425]\n",
      " [ 2.80389723  0.06620673 -0.34879208]\n",
      " [ 0.61563102 -0.30632536 -0.1650593 ]\n",
      " [-2.15852616 -0.95883922 -0.38608588]\n",
      " [-0.93105243  1.04481917 -0.36001316]\n",
      " [ 1.1423878   1.27394577  0.47124516]\n",
      " [ 0.80308178 -1.2618794  -0.47234173]\n",
      " [-1.24681973  1.65563789  0.0230066 ]\n",
      " [-0.28602725  0.02451158 -0.1867989 ]\n",
      " [-0.1999119  -0.87311811  1.46016354]]\n"
     ]
    }
   ],
   "source": [
    "proj_data_sk = np.dot(data_norm, pca_sk.components_.T)\n",
    "print(proj_data_sk.shape)\n",
    "print(proj_data_sk)"
   ]
  },
  {
   "cell_type": "code",
   "execution_count": 18,
   "id": "01733c86",
   "metadata": {},
   "outputs": [
    {
     "name": "stdout",
     "output_type": "stream",
     "text": [
      "[[ 1.96530460e+00 -7.72144097e-17  2.14378877e-16]\n",
      " [-7.72144097e-17  1.03008435e+00 -1.32620538e-16]\n",
      " [ 2.14378877e-16 -1.32620538e-16  3.37944386e-01]]\n"
     ]
    }
   ],
   "source": [
    "print(np.cov(proj_data_sk.T)) # Covariance of the projected data matrix is diagonal!"
   ]
  },
  {
   "cell_type": "markdown",
   "id": "17a31fef",
   "metadata": {},
   "source": [
    "The results (explained variance, eigenvalues and P matrix) obtained from scikit learn library are very similar to the ones obtained from the python functions. The order of eigenvectors and hence eigenvalues obtained from the python function is not sorted according to the explained variance but the values are almost same (differing only after 8 decimal places). Also, there is one eigenvector (2nd in python function and 3rd in pca) that has differing signs. The values "
   ]
  },
  {
   "cell_type": "markdown",
   "id": "0ea3f69c",
   "metadata": {},
   "source": [
    "(f) Determine the principal axes using numpy and compare with your solution. Does your solution compare well with that from the python library functions? Why or why not?"
   ]
  },
  {
   "cell_type": "code",
   "execution_count": 19,
   "id": "1820da0d",
   "metadata": {},
   "outputs": [],
   "source": [
    "u, s, vt = np.linalg.svd(data_norm) "
   ]
  },
  {
   "cell_type": "code",
   "execution_count": 20,
   "id": "a5ecb005",
   "metadata": {},
   "outputs": [
    {
     "name": "stdout",
     "output_type": "stream",
     "text": [
      "(10, 10)\n",
      "[[-0.12903036 -0.21839227  0.02025485 -0.11486499  0.01523355 -0.10749197\n",
      "   0.42683596 -0.26415253  0.05492814 -0.80949526]\n",
      " [ 0.66669301  0.02174425  0.19999666  0.54703146  0.14989506 -0.39686657\n",
      "   0.03199942  0.09473135  0.08301484 -0.13763891]\n",
      " [ 0.14638086 -0.10060633  0.09464466 -0.23565773  0.38826045  0.35442037\n",
      "  -0.39344473  0.56546023  0.02839459 -0.39019043]\n",
      " [-0.51324075 -0.31491122  0.22138085  0.7147668   0.02147908  0.24432319\n",
      "  -0.09351423  0.07964978 -0.02823629 -0.0383712 ]\n",
      " [-0.22137978  0.34314959  0.2064308  -0.02027774  0.82547525 -0.06306849\n",
      "   0.16149905 -0.24337483 -0.02409298  0.13759994]\n",
      " [ 0.27162977  0.41840156 -0.270211    0.2652531  -0.0489155   0.71281627\n",
      "   0.21997141 -0.18339279  0.03728132 -0.11778888]\n",
      " [ 0.19095172 -0.4144386   0.27083978 -0.14380081  0.06291575  0.2523406\n",
      "   0.66563932  0.26795389 -0.04072629  0.33701252]\n",
      " [-0.29646094  0.54376056 -0.01319194  0.07910188 -0.17967015 -0.21550941\n",
      "   0.34596521  0.63215821  0.00747188 -0.1091183 ]\n",
      " [-0.06800976  0.00805033  0.10711011 -0.04601466 -0.03476136  0.03660289\n",
      "  -0.01160111 -0.01979099  0.98605644  0.0796131 ]\n",
      " [-0.04753379 -0.28675787 -0.83725476  0.14598955  0.32379262 -0.14862792\n",
      "   0.12598353  0.17458768  0.11178445  0.08614862]]\n"
     ]
    }
   ],
   "source": [
    "print(u.shape)\n",
    "print(u) # U matrix in the svd factorisation of the standardised data matrix"
   ]
  },
  {
   "cell_type": "code",
   "execution_count": 21,
   "id": "4ebe570d",
   "metadata": {},
   "outputs": [
    {
     "name": "stdout",
     "output_type": "stream",
     "text": [
      "(3,)\n",
      "Singular values obtained from numpy:  [4.20567966 3.04479214 1.74398953]\n"
     ]
    }
   ],
   "source": [
    "print(s.shape)\n",
    "print(\"Singular values obtained from numpy: \", s)"
   ]
  },
  {
   "cell_type": "code",
   "execution_count": 22,
   "id": "6736c83d",
   "metadata": {},
   "outputs": [
    {
     "name": "stdout",
     "output_type": "stream",
     "text": [
      "(3, 3)\n",
      "[[-0.64200458 -0.68636164  0.34166917]\n",
      " [ 0.38467229  0.09713033  0.91792861]\n",
      " [-0.66321742  0.72074503  0.20166619]]\n"
     ]
    }
   ],
   "source": [
    "print(vt.shape)\n",
    "print(vt) # eigenvector matrix of cov of data matrix: transformation matrix"
   ]
  },
  {
   "cell_type": "code",
   "execution_count": 23,
   "id": "1adb396a",
   "metadata": {},
   "outputs": [
    {
     "name": "stdout",
     "output_type": "stream",
     "text": [
      "[[ 1.96530460e+00  9.52200081e-18 -4.52437690e-16]\n",
      " [ 9.52200081e-18  1.03008435e+00  1.67081863e-16]\n",
      " [-4.52437690e-16  1.67081863e-16  3.37944386e-01]]\n"
     ]
    }
   ],
   "source": [
    "proj_data_svd = np.dot(data_norm, vt.T) # Projected data: X(mxn).V(nxn)\n",
    "print(np.cov(proj_data_svd.T)) # Covariance of the projected data is a diagonal matrix!"
   ]
  },
  {
   "cell_type": "markdown",
   "id": "5365ff96",
   "metadata": {},
   "source": [
    "The results obtained from numpy.linalg.svd function are again very similar to those obtained by both python and sklearn functions. The projected data has a"
   ]
  },
  {
   "cell_type": "markdown",
   "id": "8962dfeb",
   "metadata": {},
   "source": [
    "(g) How many PCs are sufficient to represent the data in reduced dimensions with 95 % accuracy. Show how did you come up with you answer."
   ]
  },
  {
   "cell_type": "code",
   "execution_count": 25,
   "id": "bd3da4dc",
   "metadata": {},
   "outputs": [
    {
     "name": "stdout",
     "output_type": "stream",
     "text": [
      "[0.58959138 0.30902531 0.10138332]\n"
     ]
    }
   ],
   "source": [
    "print(pca_sk.explained_variance_ratio_)"
   ]
  },
  {
   "cell_type": "markdown",
   "id": "c4c4bc65",
   "metadata": {},
   "source": [
    "As can be seen above, the variance ratios of the 3 PCs obtained from the given data is arranged in a descending order. In order to represent the data with 95% accuracy, we would need all the 3 PCs because the largest 2 can explain 90% of data but the rest 10% can be represented after including the 3rd PC only."
   ]
  }
 ],
 "metadata": {
  "kernelspec": {
   "display_name": "Python 3 (ipykernel)",
   "language": "python",
   "name": "python3"
  },
  "language_info": {
   "codemirror_mode": {
    "name": "ipython",
    "version": 3
   },
   "file_extension": ".py",
   "mimetype": "text/x-python",
   "name": "python",
   "nbconvert_exporter": "python",
   "pygments_lexer": "ipython3",
   "version": "3.8.11"
  }
 },
 "nbformat": 4,
 "nbformat_minor": 5
}
